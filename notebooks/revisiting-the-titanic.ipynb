{
  "metadata": {
    "kernelspec": {
      "display_name": "Python 3",
      "language": "python",
      "name": "python3"
    },
    "language_info": {
      "name": "python",
      "version": "3.7.9",
      "mimetype": "text/x-python",
      "codemirror_mode": {
        "name": "ipython",
        "version": 3
      },
      "pygments_lexer": "ipython3",
      "nbconvert_exporter": "python",
      "file_extension": ".py"
    },
    "kaggle": {
      "accelerator": "none",
      "dataSources": [
        {
          "sourceId": 3136,
          "databundleVersionId": 26502,
          "sourceType": "competition"
        }
      ],
      "dockerImageVersionId": 30085,
      "isInternetEnabled": true,
      "language": "python",
      "sourceType": "notebook",
      "isGpuEnabled": false
    },
    "colab": {
      "provenance": [],
      "include_colab_link": true
    }
  },
  "nbformat_minor": 0,
  "nbformat": 4,
  "cells": [
    {
      "cell_type": "markdown",
      "metadata": {
        "id": "view-in-github",
        "colab_type": "text"
      },
      "source": [
        "<a href=\"https://colab.research.google.com/github/nishzsche/nishzsche.github.io/blob/gh-pages/notebooks/EDA_on_Titanic_%7C_TOP_5_.ipynb\" target=\"_parent\"><img src=\"https://colab.research.google.com/assets/colab-badge.svg\" alt=\"Open In Colab\"/></a>"
      ]
    },
    {
      "source": [
        "\n",
        "# IMPORTANT: RUN THIS CELL IN ORDER TO IMPORT YOUR KAGGLE DATA SOURCES\n",
        "# TO THE CORRECT LOCATION (/kaggle/input) IN YOUR NOTEBOOK,\n",
        "# THEN FEEL FREE TO DELETE THIS CELL.\n",
        "# NOTE: THIS NOTEBOOK ENVIRONMENT DIFFERS FROM KAGGLE'S PYTHON\n",
        "# ENVIRONMENT SO THERE MAY BE MISSING LIBRARIES USED BY YOUR\n",
        "# NOTEBOOK.\n",
        "\n",
        "import os\n",
        "import sys\n",
        "from tempfile import NamedTemporaryFile\n",
        "from urllib.request import urlopen\n",
        "from urllib.parse import unquote, urlparse\n",
        "from urllib.error import HTTPError\n",
        "from zipfile import ZipFile\n",
        "import tarfile\n",
        "import shutil\n",
        "\n",
        "CHUNK_SIZE = 40960\n",
        "DATA_SOURCE_MAPPING = 'titanic:https%3A%2F%2Fstorage.googleapis.com%2Fkaggle-competitions-data%2Fkaggle-v2%2F3136%2F26502%2Fbundle%2Farchive.zip%3FX-Goog-Algorithm%3DGOOG4-RSA-SHA256%26X-Goog-Credential%3Dgcp-kaggle-com%2540kaggle-161607.iam.gserviceaccount.com%252F20240603%252Fauto%252Fstorage%252Fgoog4_request%26X-Goog-Date%3D20240603T171358Z%26X-Goog-Expires%3D259200%26X-Goog-SignedHeaders%3Dhost%26X-Goog-Signature%3D3679f82808529ac23811c76d18693f3bf25f4bfa9c4e6f4c0a9fca873b94026e1783980dddcbe3f8fd3394a1443c185d61904736e4643061cabefaf1d82e9b0fea46d46b8270306408b287dec849edbd527d43fb715df1d49ceabe88d5902c77d6d0549af7efd6c6759c9a134ea957ca73bbac0f38b4cafaf1a21ff2d1760bdad469cb9f37b6c26df6ae77107667e9224e81f92ccf4ab7c739eb4439c4e614b520d831b8f97caa77d03f872b6c22aaedcae7523476de959eeaa8675ccb9b841e976ee52b7a67382f9ff95cd18a2691b75287b6b99078ac16a9ef18caf36212ddf1a108c2f73d8912786de807a706e35a611a9061bee4880cfd4c5ccbcbcc6129'\n",
        "\n",
        "KAGGLE_INPUT_PATH='/kaggle/input'\n",
        "KAGGLE_WORKING_PATH='/kaggle/working'\n",
        "KAGGLE_SYMLINK='kaggle'\n",
        "\n",
        "!umount /kaggle/input/ 2> /dev/null\n",
        "shutil.rmtree('/kaggle/input', ignore_errors=True)\n",
        "os.makedirs(KAGGLE_INPUT_PATH, 0o777, exist_ok=True)\n",
        "os.makedirs(KAGGLE_WORKING_PATH, 0o777, exist_ok=True)\n",
        "\n",
        "try:\n",
        "  os.symlink(KAGGLE_INPUT_PATH, os.path.join(\"..\", 'input'), target_is_directory=True)\n",
        "except FileExistsError:\n",
        "  pass\n",
        "try:\n",
        "  os.symlink(KAGGLE_WORKING_PATH, os.path.join(\"..\", 'working'), target_is_directory=True)\n",
        "except FileExistsError:\n",
        "  pass\n",
        "\n",
        "for data_source_mapping in DATA_SOURCE_MAPPING.split(','):\n",
        "    directory, download_url_encoded = data_source_mapping.split(':')\n",
        "    download_url = unquote(download_url_encoded)\n",
        "    filename = urlparse(download_url).path\n",
        "    destination_path = os.path.join(KAGGLE_INPUT_PATH, directory)\n",
        "    try:\n",
        "        with urlopen(download_url) as fileres, NamedTemporaryFile() as tfile:\n",
        "            total_length = fileres.headers['content-length']\n",
        "            print(f'Downloading {directory}, {total_length} bytes compressed')\n",
        "            dl = 0\n",
        "            data = fileres.read(CHUNK_SIZE)\n",
        "            while len(data) > 0:\n",
        "                dl += len(data)\n",
        "                tfile.write(data)\n",
        "                done = int(50 * dl / int(total_length))\n",
        "                sys.stdout.write(f\"\\r[{'=' * done}{' ' * (50-done)}] {dl} bytes downloaded\")\n",
        "                sys.stdout.flush()\n",
        "                data = fileres.read(CHUNK_SIZE)\n",
        "            if filename.endswith('.zip'):\n",
        "              with ZipFile(tfile) as zfile:\n",
        "                zfile.extractall(destination_path)\n",
        "            else:\n",
        "              with tarfile.open(tfile.name) as tarfile:\n",
        "                tarfile.extractall(destination_path)\n",
        "            print(f'\\nDownloaded and uncompressed: {directory}')\n",
        "    except HTTPError as e:\n",
        "        print(f'Failed to load (likely expired) {download_url} to path {destination_path}')\n",
        "        continue\n",
        "    except OSError as e:\n",
        "        print(f'Failed to load {download_url} to path {destination_path}')\n",
        "        continue\n",
        "\n",
        "print('Data source import complete.')"
      ],
      "metadata": {
        "id": "nj7nMv20GANv"
      },
      "cell_type": "code",
      "outputs": [],
      "execution_count": null
    },
    {
      "cell_type": "markdown",
      "source": [
        "# **Exploratory Data Analysis on Titanic Dataset**"
      ],
      "metadata": {
        "id": "fNJjAEa8GAN4"
      }
    },
    {
      "cell_type": "code",
      "source": [
        "import random\n",
        "import numpy as np\n",
        "import pandas as pd\n",
        "from scipy.stats import chi2_contingency,levene,kruskal\n",
        "from sklearn.metrics import accuracy_score\n",
        "from sklearn.model_selection import cross_val_score\n",
        "import statsmodels.api as sm\n",
        "\n",
        "import matplotlib.pyplot as plt\n",
        "%matplotlib inline\n",
        "import seaborn as sns\n",
        "\n",
        "from xgboost import XGBClassifier\n",
        "\n",
        "print(\"Setup Complete\")"
      ],
      "metadata": {
        "_cell_guid": "b1076dfc-b9ad-4769-8c92-a6c4dae69d19",
        "_uuid": "8f2839f25d086af736a60e9eeb907d3b93b6e0e5",
        "execution": {
          "iopub.status.busy": "2024-06-02T08:44:56.332704Z",
          "iopub.execute_input": "2024-06-02T08:44:56.333137Z",
          "iopub.status.idle": "2024-06-02T08:44:58.543747Z",
          "shell.execute_reply.started": "2024-06-02T08:44:56.333046Z",
          "shell.execute_reply": "2024-06-02T08:44:58.542371Z"
        },
        "trusted": true,
        "id": "V9hZVTkXGAN8",
        "outputId": "f25d41e1-58a6-450a-e72c-67e8bb9c6b6d"
      },
      "execution_count": null,
      "outputs": [
        {
          "name": "stdout",
          "text": "Setup Complete\n",
          "output_type": "stream"
        }
      ]
    },
    {
      "cell_type": "code",
      "source": [
        "#Loading titanic data\n",
        "train_data = pd.read_csv('/kaggle/input/titanic/train.csv',index_col='PassengerId')\n",
        "train_data.head()"
      ],
      "metadata": {
        "execution": {
          "iopub.status.busy": "2024-06-02T08:44:58.546353Z",
          "iopub.execute_input": "2024-06-02T08:44:58.546832Z",
          "iopub.status.idle": "2024-06-02T08:44:58.597899Z",
          "shell.execute_reply.started": "2024-06-02T08:44:58.546785Z",
          "shell.execute_reply": "2024-06-02T08:44:58.596869Z"
        },
        "trusted": true,
        "id": "_Ck5mkg5GAN_",
        "outputId": "f2cfbfc2-036a-4ee1-afe9-aec12ac5a009"
      },
      "execution_count": null,
      "outputs": [
        {
          "execution_count": 2,
          "output_type": "execute_result",
          "data": {
            "text/plain": "             Survived  Pclass  \\\nPassengerId                     \n1                   0       3   \n2                   1       1   \n3                   1       3   \n4                   1       1   \n5                   0       3   \n\n                                                          Name     Sex   Age  \\\nPassengerId                                                                    \n1                                      Braund, Mr. Owen Harris    male  22.0   \n2            Cumings, Mrs. John Bradley (Florence Briggs Th...  female  38.0   \n3                                       Heikkinen, Miss. Laina  female  26.0   \n4                 Futrelle, Mrs. Jacques Heath (Lily May Peel)  female  35.0   \n5                                     Allen, Mr. William Henry    male  35.0   \n\n             SibSp  Parch            Ticket     Fare Cabin Embarked  \nPassengerId                                                          \n1                1      0         A/5 21171   7.2500   NaN        S  \n2                1      0          PC 17599  71.2833   C85        C  \n3                0      0  STON/O2. 3101282   7.9250   NaN        S  \n4                1      0            113803  53.1000  C123        S  \n5                0      0            373450   8.0500   NaN        S  ",
            "text/html": "<div>\n<style scoped>\n    .dataframe tbody tr th:only-of-type {\n        vertical-align: middle;\n    }\n\n    .dataframe tbody tr th {\n        vertical-align: top;\n    }\n\n    .dataframe thead th {\n        text-align: right;\n    }\n</style>\n<table border=\"1\" class=\"dataframe\">\n  <thead>\n    <tr style=\"text-align: right;\">\n      <th></th>\n      <th>Survived</th>\n      <th>Pclass</th>\n      <th>Name</th>\n      <th>Sex</th>\n      <th>Age</th>\n      <th>SibSp</th>\n      <th>Parch</th>\n      <th>Ticket</th>\n      <th>Fare</th>\n      <th>Cabin</th>\n      <th>Embarked</th>\n    </tr>\n    <tr>\n      <th>PassengerId</th>\n      <th></th>\n      <th></th>\n      <th></th>\n      <th></th>\n      <th></th>\n      <th></th>\n      <th></th>\n      <th></th>\n      <th></th>\n      <th></th>\n      <th></th>\n    </tr>\n  </thead>\n  <tbody>\n    <tr>\n      <th>1</th>\n      <td>0</td>\n      <td>3</td>\n      <td>Braund, Mr. Owen Harris</td>\n      <td>male</td>\n      <td>22.0</td>\n      <td>1</td>\n      <td>0</td>\n      <td>A/5 21171</td>\n      <td>7.2500</td>\n      <td>NaN</td>\n      <td>S</td>\n    </tr>\n    <tr>\n      <th>2</th>\n      <td>1</td>\n      <td>1</td>\n      <td>Cumings, Mrs. John Bradley (Florence Briggs Th...</td>\n      <td>female</td>\n      <td>38.0</td>\n      <td>1</td>\n      <td>0</td>\n      <td>PC 17599</td>\n      <td>71.2833</td>\n      <td>C85</td>\n      <td>C</td>\n    </tr>\n    <tr>\n      <th>3</th>\n      <td>1</td>\n      <td>3</td>\n      <td>Heikkinen, Miss. Laina</td>\n      <td>female</td>\n      <td>26.0</td>\n      <td>0</td>\n      <td>0</td>\n      <td>STON/O2. 3101282</td>\n      <td>7.9250</td>\n      <td>NaN</td>\n      <td>S</td>\n    </tr>\n    <tr>\n      <th>4</th>\n      <td>1</td>\n      <td>1</td>\n      <td>Futrelle, Mrs. Jacques Heath (Lily May Peel)</td>\n      <td>female</td>\n      <td>35.0</td>\n      <td>1</td>\n      <td>0</td>\n      <td>113803</td>\n      <td>53.1000</td>\n      <td>C123</td>\n      <td>S</td>\n    </tr>\n    <tr>\n      <th>5</th>\n      <td>0</td>\n      <td>3</td>\n      <td>Allen, Mr. William Henry</td>\n      <td>male</td>\n      <td>35.0</td>\n      <td>0</td>\n      <td>0</td>\n      <td>373450</td>\n      <td>8.0500</td>\n      <td>NaN</td>\n      <td>S</td>\n    </tr>\n  </tbody>\n</table>\n</div>"
          },
          "metadata": {}
        }
      ]
    },
    {
      "cell_type": "code",
      "source": [
        "#Basic Info\n",
        "train_data.info()"
      ],
      "metadata": {
        "execution": {
          "iopub.status.busy": "2024-06-02T08:44:58.599842Z",
          "iopub.execute_input": "2024-06-02T08:44:58.600289Z",
          "iopub.status.idle": "2024-06-02T08:44:58.621231Z",
          "shell.execute_reply.started": "2024-06-02T08:44:58.600244Z",
          "shell.execute_reply": "2024-06-02T08:44:58.620094Z"
        },
        "trusted": true,
        "id": "VAD_6S8zGAOA",
        "outputId": "0f1398ab-9521-4b2e-e243-9e4bf0948e15"
      },
      "execution_count": null,
      "outputs": [
        {
          "name": "stdout",
          "text": "<class 'pandas.core.frame.DataFrame'>\nInt64Index: 891 entries, 1 to 891\nData columns (total 11 columns):\n #   Column    Non-Null Count  Dtype  \n---  ------    --------------  -----  \n 0   Survived  891 non-null    int64  \n 1   Pclass    891 non-null    int64  \n 2   Name      891 non-null    object \n 3   Sex       891 non-null    object \n 4   Age       714 non-null    float64\n 5   SibSp     891 non-null    int64  \n 6   Parch     891 non-null    int64  \n 7   Ticket    891 non-null    object \n 8   Fare      891 non-null    float64\n 9   Cabin     204 non-null    object \n 10  Embarked  889 non-null    object \ndtypes: float64(2), int64(4), object(5)\nmemory usage: 83.5+ KB\n",
          "output_type": "stream"
        }
      ]
    },
    {
      "cell_type": "code",
      "source": [
        "#Statistical summary for numerical features\n",
        "train_data.describe()"
      ],
      "metadata": {
        "execution": {
          "iopub.status.busy": "2024-06-02T08:44:58.622799Z",
          "iopub.execute_input": "2024-06-02T08:44:58.623278Z",
          "iopub.status.idle": "2024-06-02T08:44:58.660245Z",
          "shell.execute_reply.started": "2024-06-02T08:44:58.623224Z",
          "shell.execute_reply": "2024-06-02T08:44:58.659362Z"
        },
        "trusted": true,
        "id": "VuA7tKEAGAOA",
        "outputId": "1ca22782-d7a4-418a-df8e-e2aa4937d667"
      },
      "execution_count": null,
      "outputs": [
        {
          "execution_count": 4,
          "output_type": "execute_result",
          "data": {
            "text/plain": "         Survived      Pclass         Age       SibSp       Parch        Fare\ncount  891.000000  891.000000  714.000000  891.000000  891.000000  891.000000\nmean     0.383838    2.308642   29.699118    0.523008    0.381594   32.204208\nstd      0.486592    0.836071   14.526497    1.102743    0.806057   49.693429\nmin      0.000000    1.000000    0.420000    0.000000    0.000000    0.000000\n25%      0.000000    2.000000   20.125000    0.000000    0.000000    7.910400\n50%      0.000000    3.000000   28.000000    0.000000    0.000000   14.454200\n75%      1.000000    3.000000   38.000000    1.000000    0.000000   31.000000\nmax      1.000000    3.000000   80.000000    8.000000    6.000000  512.329200",
            "text/html": "<div>\n<style scoped>\n    .dataframe tbody tr th:only-of-type {\n        vertical-align: middle;\n    }\n\n    .dataframe tbody tr th {\n        vertical-align: top;\n    }\n\n    .dataframe thead th {\n        text-align: right;\n    }\n</style>\n<table border=\"1\" class=\"dataframe\">\n  <thead>\n    <tr style=\"text-align: right;\">\n      <th></th>\n      <th>Survived</th>\n      <th>Pclass</th>\n      <th>Age</th>\n      <th>SibSp</th>\n      <th>Parch</th>\n      <th>Fare</th>\n    </tr>\n  </thead>\n  <tbody>\n    <tr>\n      <th>count</th>\n      <td>891.000000</td>\n      <td>891.000000</td>\n      <td>714.000000</td>\n      <td>891.000000</td>\n      <td>891.000000</td>\n      <td>891.000000</td>\n    </tr>\n    <tr>\n      <th>mean</th>\n      <td>0.383838</td>\n      <td>2.308642</td>\n      <td>29.699118</td>\n      <td>0.523008</td>\n      <td>0.381594</td>\n      <td>32.204208</td>\n    </tr>\n    <tr>\n      <th>std</th>\n      <td>0.486592</td>\n      <td>0.836071</td>\n      <td>14.526497</td>\n      <td>1.102743</td>\n      <td>0.806057</td>\n      <td>49.693429</td>\n    </tr>\n    <tr>\n      <th>min</th>\n      <td>0.000000</td>\n      <td>1.000000</td>\n      <td>0.420000</td>\n      <td>0.000000</td>\n      <td>0.000000</td>\n      <td>0.000000</td>\n    </tr>\n    <tr>\n      <th>25%</th>\n      <td>0.000000</td>\n      <td>2.000000</td>\n      <td>20.125000</td>\n      <td>0.000000</td>\n      <td>0.000000</td>\n      <td>7.910400</td>\n    </tr>\n    <tr>\n      <th>50%</th>\n      <td>0.000000</td>\n      <td>3.000000</td>\n      <td>28.000000</td>\n      <td>0.000000</td>\n      <td>0.000000</td>\n      <td>14.454200</td>\n    </tr>\n    <tr>\n      <th>75%</th>\n      <td>1.000000</td>\n      <td>3.000000</td>\n      <td>38.000000</td>\n      <td>1.000000</td>\n      <td>0.000000</td>\n      <td>31.000000</td>\n    </tr>\n    <tr>\n      <th>max</th>\n      <td>1.000000</td>\n      <td>3.000000</td>\n      <td>80.000000</td>\n      <td>8.000000</td>\n      <td>6.000000</td>\n      <td>512.329200</td>\n    </tr>\n  </tbody>\n</table>\n</div>"
          },
          "metadata": {}
        }
      ]
    },
    {
      "cell_type": "code",
      "source": [
        "#Statistical Summary for object type features (categorical)\n",
        "train_data.describe(include=['O'])"
      ],
      "metadata": {
        "execution": {
          "iopub.status.busy": "2024-06-02T08:44:58.663091Z",
          "iopub.execute_input": "2024-06-02T08:44:58.663587Z",
          "iopub.status.idle": "2024-06-02T08:44:58.704889Z",
          "shell.execute_reply.started": "2024-06-02T08:44:58.663544Z",
          "shell.execute_reply": "2024-06-02T08:44:58.704013Z"
        },
        "trusted": true,
        "id": "SkcX_V_6GAOB",
        "outputId": "6bac3dff-1efa-4720-e9ee-18d2aae788a1"
      },
      "execution_count": null,
      "outputs": [
        {
          "execution_count": 5,
          "output_type": "execute_result",
          "data": {
            "text/plain": "                   Name   Sex    Ticket        Cabin Embarked\ncount               891   891       891          204      889\nunique              891     2       681          147        3\ntop     Corn, Mr. Harry  male  CA. 2343  C23 C25 C27        S\nfreq                  1   577         7            4      644",
            "text/html": "<div>\n<style scoped>\n    .dataframe tbody tr th:only-of-type {\n        vertical-align: middle;\n    }\n\n    .dataframe tbody tr th {\n        vertical-align: top;\n    }\n\n    .dataframe thead th {\n        text-align: right;\n    }\n</style>\n<table border=\"1\" class=\"dataframe\">\n  <thead>\n    <tr style=\"text-align: right;\">\n      <th></th>\n      <th>Name</th>\n      <th>Sex</th>\n      <th>Ticket</th>\n      <th>Cabin</th>\n      <th>Embarked</th>\n    </tr>\n  </thead>\n  <tbody>\n    <tr>\n      <th>count</th>\n      <td>891</td>\n      <td>891</td>\n      <td>891</td>\n      <td>204</td>\n      <td>889</td>\n    </tr>\n    <tr>\n      <th>unique</th>\n      <td>891</td>\n      <td>2</td>\n      <td>681</td>\n      <td>147</td>\n      <td>3</td>\n    </tr>\n    <tr>\n      <th>top</th>\n      <td>Corn, Mr. Harry</td>\n      <td>male</td>\n      <td>CA. 2343</td>\n      <td>C23 C25 C27</td>\n      <td>S</td>\n    </tr>\n    <tr>\n      <th>freq</th>\n      <td>1</td>\n      <td>577</td>\n      <td>7</td>\n      <td>4</td>\n      <td>644</td>\n    </tr>\n  </tbody>\n</table>\n</div>"
          },
          "metadata": {}
        }
      ]
    },
    {
      "cell_type": "code",
      "source": [
        "# Finding features containing NULL values\n",
        "train_data.isna().sum()"
      ],
      "metadata": {
        "execution": {
          "iopub.status.busy": "2024-06-02T08:59:30.448476Z",
          "iopub.execute_input": "2024-06-02T08:59:30.448868Z",
          "iopub.status.idle": "2024-06-02T08:59:30.45931Z",
          "shell.execute_reply.started": "2024-06-02T08:59:30.448836Z",
          "shell.execute_reply": "2024-06-02T08:59:30.458157Z"
        },
        "trusted": true,
        "id": "79CaE38mGAOD",
        "outputId": "b68a7f32-8368-4366-e198-86767a351dab"
      },
      "execution_count": null,
      "outputs": [
        {
          "execution_count": 36,
          "output_type": "execute_result",
          "data": {
            "text/plain": "Survived      0\nPclass        0\nName          0\nSex           0\nAge         177\nSibSp         0\nParch         0\nTicket        0\nFare          0\nCabin       687\nEmbarked      2\ndtype: int64"
          },
          "metadata": {}
        }
      ]
    },
    {
      "cell_type": "markdown",
      "source": [
        "## What is a contingency table?\n",
        "\n",
        "### Contingency Table Overview\n",
        "\n",
        "A **contingency table**, also known as a cross-tabulation or crosstab, is a type of table in a matrix format that displays the (multivariate) frequency distribution of the variables. It is used extensively in statistics to analyze the relationship between two or more categorical variables.\n",
        "\n",
        "### Structure of a Contingency Table\n",
        "\n",
        "A simple contingency table is a two-dimensional matrix. Each row represents a category of one variable and each column represents a category of another variable. The cells of the table contain the counts or frequencies of observations that correspond to each row and column category combination.\n",
        "\n",
        "### Simple Example\n",
        "\n",
        "Imagine we have data from a survey where 100 people answered whether they like or dislike coffee and whether they are under or over 30 years old. The contingency table might look like this:\n",
        "\n",
        "| Age/Coffee Preference | Like | Dislike |\n",
        "|-----------------------|------|---------|\n",
        "| Under 30              |  30  |   20    |\n",
        "| Over 30               |  25  |   25    |\n",
        "\n",
        "This table shows how different age groups have different preferences for coffee. For instance, 30 out of 50 people under 30 like coffee.\n",
        "\n",
        "### Application in Data Science: Exploratory Data Analysis (EDA)\n",
        "\n",
        "Contingency tables are highly valuable in exploratory data analysis (EDA) for several reasons:\n",
        "\n",
        "1. **Relationship Assessment**:\n",
        "   - They provide a clear way to observe relationships or associations between categorical variables.\n",
        "   - By examining the frequencies, one can hypothesize whether or not there seems to be a dependency between the variables.\n",
        "\n",
        "2. **Hypothesis Testing**:\n",
        "   - Contingency tables are often used as a basis for statistical tests such as Chi-square tests, which help determine whether there are significant differences between subgroups.\n",
        "   - This can be useful in hypothesis testing when deciding if variables are independent of each other or associated in some way.\n",
        "\n",
        "3. **Data Quality Checks**:\n",
        "   - Quick visualization of data distributions can help identify irregularities or potential errors in data collection or categorization, such as unusually high or low frequencies in certain combinations.\n",
        "\n",
        "4. **Simplifying Data**:\n",
        "   - By summarizing complex data sets into a comprehensible format, contingency tables facilitate a better and quicker understanding of the data, guiding further analysis steps.\n",
        "\n",
        "In summary, contingency tables simplify complex data sets, making them easier to analyze and interpret, especially in the preliminary stages of data analysis. They serve as a powerful tool for spotting trends, testing theories, and making data-driven decisions in various fields, including marketing, healthcare, and social sciences."
      ],
      "metadata": {
        "id": "mOayv9xtGAOE"
      }
    },
    {
      "cell_type": "code",
      "source": [
        "train_data.Cabin.unique()"
      ],
      "metadata": {
        "execution": {
          "iopub.status.busy": "2024-06-02T09:06:15.758324Z",
          "iopub.execute_input": "2024-06-02T09:06:15.758726Z",
          "iopub.status.idle": "2024-06-02T09:06:15.764857Z",
          "shell.execute_reply.started": "2024-06-02T09:06:15.758688Z",
          "shell.execute_reply": "2024-06-02T09:06:15.763989Z"
        },
        "trusted": true,
        "id": "6I57vvzMGAOF",
        "outputId": "f8efccd3-aa13-4ed8-e4c8-59e61045fefc"
      },
      "execution_count": null,
      "outputs": [
        {
          "execution_count": 39,
          "output_type": "execute_result",
          "data": {
            "text/plain": "array([nan, 'C85', 'C123', 'E46', 'G6', 'C103', 'D56', 'A6',\n       'C23 C25 C27', 'B78', 'D33', 'B30', 'C52', 'B28', 'C83', 'F33',\n       'F G73', 'E31', 'A5', 'D10 D12', 'D26', 'C110', 'B58 B60', 'E101',\n       'F E69', 'D47', 'B86', 'F2', 'C2', 'E33', 'B19', 'A7', 'C49', 'F4',\n       'A32', 'B4', 'B80', 'A31', 'D36', 'D15', 'C93', 'C78', 'D35',\n       'C87', 'B77', 'E67', 'B94', 'C125', 'C99', 'C118', 'D7', 'A19',\n       'B49', 'D', 'C22 C26', 'C106', 'C65', 'E36', 'C54',\n       'B57 B59 B63 B66', 'C7', 'E34', 'C32', 'B18', 'C124', 'C91', 'E40',\n       'T', 'C128', 'D37', 'B35', 'E50', 'C82', 'B96 B98', 'E10', 'E44',\n       'A34', 'C104', 'C111', 'C92', 'E38', 'D21', 'E12', 'E63', 'A14',\n       'B37', 'C30', 'D20', 'B79', 'E25', 'D46', 'B73', 'C95', 'B38',\n       'B39', 'B22', 'C86', 'C70', 'A16', 'C101', 'C68', 'A10', 'E68',\n       'B41', 'A20', 'D19', 'D50', 'D9', 'A23', 'B50', 'A26', 'D48',\n       'E58', 'C126', 'B71', 'B51 B53 B55', 'D49', 'B5', 'B20', 'F G63',\n       'C62 C64', 'E24', 'C90', 'C45', 'E8', 'B101', 'D45', 'C46', 'D30',\n       'E121', 'D11', 'E77', 'F38', 'B3', 'D6', 'B82 B84', 'D17', 'A36',\n       'B102', 'B69', 'E49', 'C47', 'D28', 'E17', 'A24', 'C50', 'B42',\n       'C148'], dtype=object)"
          },
          "metadata": {}
        }
      ]
    },
    {
      "cell_type": "markdown",
      "source": [
        "## What is P Values\n",
        "\n",
        "### Understanding P-values\n",
        "\n",
        "The **p-value** is a fundamental concept in statistical hypothesis testing, particularly in the context of deciding whether to reject a null hypothesis. It measures the probability of observing results at least as extreme as those in your data, assuming that the null hypothesis is true.\n",
        "\n",
        "### Simple Explanation\n",
        "\n",
        "The p-value tells you how likely you are to see your data, or something more extreme, if the null hypothesis of a study is true. If this probability (the p-value) is very low, it suggests that such extreme data would be very unusual under the null hypothesis. Therefore, a low p-value (typically less than 0.05) often leads researchers to reject the null hypothesis, concluding that the observed effect is statistically significant, i.e., likely not due to chance.\n",
        "\n",
        "### Example Scenario: Coin Toss\n",
        "\n",
        "Let's say you have a coin and you want to test whether it is fair (null hypothesis). You decide to flip it 100 times to see how many times it lands on heads. Suppose you observe 60 heads (which seems high for a fair coin).\n",
        "\n",
        "You could use a statistical test (like a binomial test) to calculate the p-value — the probability of getting 60 or more heads in 100 tosses if the coin is indeed fair.\n",
        "\n",
        "- **Hypothesis**:\n",
        "  - Null hypothesis \\( H_0 \\): The coin is fair (p = 0.5).\n",
        "  - Alternative hypothesis \\( H_a \\): The coin is not fair (p ≠ 0.5).\n",
        "\n",
        "- **Calculation**:\n",
        "  - Using the binomial distribution, calculate the probability of getting exactly 60, 61, ..., 100 heads. Sum these probabilities to find the total probability of getting at least 60 heads.\n",
        "\n",
        "- **P-value**: Suppose this probability (summed up) comes out to be 0.04.\n",
        "\n",
        "### Interpretation\n",
        "- A p-value of 0.04 suggests that there is a 4% chance of observing 60 or more heads in 100 flips if the coin were fair.\n",
        "- Since 0.04 is less than the typical threshold of 0.05, you might reject the null hypothesis, concluding there is statistically significant evidence that the coin may not be fair.\n",
        "\n",
        "### Context in Data Science\n",
        "\n",
        "In data science, p-values are used to determine the statistical significance of results obtained from models and tests. This can help in:\n",
        "- **Model Feature Selection**: Determining which variables significantly predict an outcome.\n",
        "- **A/B Testing**: Deciding if changes in a website or app significantly affect user behavior.\n",
        "- **Medical Studies**: Assessing whether new treatments are effective.\n",
        "\n",
        "Understanding and using p-values correctly is crucial as they help in making informed decisions based on statistical evidence. However, it's also important to use them in conjunction with other statistics like confidence intervals and effect sizes to get a complete picture of your study results."
      ],
      "metadata": {
        "id": "4K3fuMlgGAOH"
      }
    },
    {
      "cell_type": "code",
      "source": [
        "from IPython.display import YouTubeVideo\n",
        "\n",
        "YouTubeVideo('vemZtEM63GY', width=800, height=300)"
      ],
      "metadata": {
        "execution": {
          "iopub.status.busy": "2024-06-02T09:14:30.164715Z",
          "iopub.execute_input": "2024-06-02T09:14:30.165086Z",
          "iopub.status.idle": "2024-06-02T09:14:30.208428Z",
          "shell.execute_reply.started": "2024-06-02T09:14:30.165056Z",
          "shell.execute_reply": "2024-06-02T09:14:30.207448Z"
        },
        "trusted": true,
        "id": "YEysDE9cGAOI",
        "outputId": "20b240bb-a8fc-4461-ae09-0530002f3674"
      },
      "execution_count": null,
      "outputs": [
        {
          "execution_count": 43,
          "output_type": "execute_result",
          "data": {
            "text/plain": "<IPython.lib.display.YouTubeVideo at 0x7cfa22b3ebd0>",
            "text/html": "\n        <iframe\n            width=\"800\"\n            height=\"300\"\n            src=\"https://www.youtube.com/embed/vemZtEM63GY\"\n            frameborder=\"0\"\n            allowfullscreen\n        ></iframe>\n        ",
            "image/jpeg": "[encoded data removed]"
          },
          "metadata": {}
        }
      ]
    },
    {
      "cell_type": "code",
      "source": [
        "from IPython.display import YouTubeVideo\n",
        "\n",
        "YouTubeVideo('KS6KEWaoOOE', width=800, height=300)"
      ],
      "metadata": {
        "execution": {
          "iopub.status.busy": "2024-06-02T09:15:14.154203Z",
          "iopub.execute_input": "2024-06-02T09:15:14.154579Z",
          "iopub.status.idle": "2024-06-02T09:15:14.187308Z",
          "shell.execute_reply.started": "2024-06-02T09:15:14.154546Z",
          "shell.execute_reply": "2024-06-02T09:15:14.186215Z"
        },
        "trusted": true,
        "id": "y5or2qY7GAOJ",
        "outputId": "8a38460c-161e-4eee-d45e-dc89aaf7fd4a"
      },
      "execution_count": null,
      "outputs": [
        {
          "execution_count": 44,
          "output_type": "execute_result",
          "data": {
            "text/plain": "<IPython.lib.display.YouTubeVideo at 0x7cfa1a8fbcd0>",
            "text/html": "\n        <iframe\n            width=\"800\"\n            height=\"300\"\n            src=\"https://www.youtube.com/embed/KS6KEWaoOOE\"\n            frameborder=\"0\"\n            allowfullscreen\n        ></iframe>\n        ",
            "image/jpeg": "[encoded data removed]"
          },
          "metadata": {}
        }
      ]
    },
    {
      "cell_type": "code",
      "source": [
        "# Checking effects of features cobtaining NULL values on target\n",
        "# Embarked has 2 NULL values which isn't a significant amount\n",
        "missing_feat = ['Age','Cabin']\n",
        "\n",
        "for col in missing_feat:\n",
        "    contigency_table = pd.crosstab(train_data['Survived'],train_data[col].isnull())\n",
        "    p_value = chi2_contingency(contigency_table)[1]\n",
        "    print(contigency_table)\n",
        "    print(col,'P Value:',p_value)\n",
        "\n",
        "    contigency_table.plot.bar()\n",
        "    plt.show()"
      ],
      "metadata": {
        "execution": {
          "iopub.status.busy": "2024-06-02T09:05:23.450138Z",
          "iopub.execute_input": "2024-06-02T09:05:23.450552Z",
          "iopub.status.idle": "2024-06-02T09:05:23.87085Z",
          "shell.execute_reply.started": "2024-06-02T09:05:23.450515Z",
          "shell.execute_reply": "2024-06-02T09:05:23.869832Z"
        },
        "trusted": true,
        "id": "4OOrBGcMGAOL",
        "outputId": "f34c65aa-7651-4464-c143-5297603e0cf6"
      },
      "execution_count": null,
      "outputs": [
        {
          "name": "stdout",
          "text": "Age       False  True \nSurvived              \n0           424    125\n1           290     52\nAge P Value: 0.007682742096212262\n",
          "output_type": "stream"
        },
        {
          "output_type": "display_data",
          "data": {
            "text/plain": "<Figure size 432x288 with 1 Axes>",
            "image/png": "[encoded data removed]"
          },
          "metadata": {
            "needs_background": "light"
          }
        },
        {
          "name": "stdout",
          "text": "Cabin     False  True \nSurvived              \n0            68    481\n1           136    206\nCabin P Value: 6.7419704360811776e-21\n",
          "output_type": "stream"
        },
        {
          "output_type": "display_data",
          "data": {
            "text/plain": "<Figure size 432x288 with 1 Axes>",
            "image/png": "[encoded data removed]"
          },
          "metadata": {
            "needs_background": "light"
          }
        }
      ]
    },
    {
      "cell_type": "markdown",
      "source": [
        "    Observation : Null values of Age and Cabin are strongly associated with Survived"
      ],
      "metadata": {
        "id": "uAwtLZZNGAOL"
      }
    },
    {
      "cell_type": "markdown",
      "source": [
        "## What is List Comprehension in Python\n",
        "\n",
        "List comprehension is a concise and efficient way to create lists in Python. It allows you to generate new lists by applying an expression to each item in an iterable (like a list, tuple, etc.) and optionally filtering elements to include only those that meet certain conditions.\n",
        "\n",
        "### Basic Syntax\n",
        "\n",
        "The basic syntax of a list comprehension is:\n",
        "```python\n",
        "[expression for item in iterable]\n",
        "```\n",
        "\n",
        "### Simple Example\n",
        "\n",
        "Here’s a basic example where we create a list of squares of numbers from 1 to 5:\n",
        "\n",
        "```python\n",
        "squares = [x**2 for x in range(1, 6)]\n",
        "print(squares)  # Output: [1, 4, 9, 16, 25]\n",
        "```\n",
        "\n",
        "### Adding Conditional Logic\n",
        "\n",
        "You can also add a condition to the list comprehension to filter elements. The syntax becomes:\n",
        "\n",
        "```python\n",
        "[expression for item in iterable if condition]\n",
        "```\n",
        "\n",
        "### Example with Condition\n",
        "\n",
        "For instance, if you want a list of squares of only the even numbers from 1 to 10, you could do:\n",
        "\n",
        "```python\n",
        "even_squares = [x**2 for x in range(1, 11) if x % 2 == 0]\n",
        "print(even_squares)  # Output: [4, 16, 36, 64, 100]\n",
        "```\n",
        "\n",
        "### Multiple For Loops\n",
        "\n",
        "List comprehensions can also contain multiple `for` clauses, which is similar to using nested loops:\n",
        "\n",
        "```python\n",
        "# Example: Create a list of all possible (x, y) pairs where x is from 0 to 2 and y is from 0 to 2\n",
        "pairs = [(x, y) for x in range(3) for y in range(3)]\n",
        "print(pairs)\n",
        "# Output: [(0, 0), (0, 1), (0, 2), (1, 0), (1, 1), (1, 2), (2, 0), (2, 1), (2, 2)]\n",
        "```\n",
        "\n",
        "### Practical Application\n",
        "\n",
        "List comprehensions are widely used in data science for data manipulation and transformation tasks, such as cleaning data, extracting information, or transforming data structures. They offer a more readable and expressive syntax compared to traditional loop and filter constructs.\n",
        "\n",
        "### Example in Data Science\n",
        "\n",
        "Imagine you have a list of temperatures in Celsius and you want to convert them to Fahrenheit:\n",
        "\n",
        "```python\n",
        "celsius = [0, 10, 20, 34.5]\n",
        "fahrenheit = [((9/5) * temp + 32) for temp in celsius]\n",
        "print(fahrenheit)  # Output: [32.0, 50.0, 68.0, 94.1]\n",
        "```\n",
        "\n",
        "### Conclusion\n",
        "\n",
        "List comprehension is a powerful feature in Python that makes code more readable and often faster. It’s especially useful when you need to perform operations on list elements and can be extended to more complex data structures and operations, making it a valuable tool for any Python programmer."
      ],
      "metadata": {
        "execution": {
          "iopub.status.busy": "2024-06-02T09:27:12.920327Z",
          "iopub.execute_input": "2024-06-02T09:27:12.920725Z",
          "iopub.status.idle": "2024-06-02T09:27:12.928098Z",
          "shell.execute_reply.started": "2024-06-02T09:27:12.920682Z",
          "shell.execute_reply": "2024-06-02T09:27:12.927096Z"
        },
        "id": "R95fIUW9GAOM"
      }
    },
    {
      "cell_type": "code",
      "source": [
        "#Listing Descrete features and their unique values\n",
        "discrete_feat = [col for col in train_data.columns if train_data[col].dtype != 'O' and\n",
        "                 train_data[col].nunique()<25]\n",
        "\n",
        "# Removing the target feature\n",
        "discrete_feat.remove('Survived')\n",
        "\n",
        "# Checking data distribution among descrete features\n",
        "for feature in discrete_feat:\n",
        "    print(train_data[[feature]].value_counts()/train_data.shape[0]*100)"
      ],
      "metadata": {
        "execution": {
          "iopub.status.busy": "2024-06-02T09:21:17.253309Z",
          "iopub.execute_input": "2024-06-02T09:21:17.253746Z",
          "iopub.status.idle": "2024-06-02T09:21:17.277301Z",
          "shell.execute_reply.started": "2024-06-02T09:21:17.253711Z",
          "shell.execute_reply": "2024-06-02T09:21:17.276298Z"
        },
        "trusted": true,
        "id": "BeCXqD85GAOM",
        "outputId": "503875e0-a364-44d5-dbff-65f324175c26"
      },
      "execution_count": null,
      "outputs": [
        {
          "name": "stdout",
          "text": "Pclass\n3         55.106622\n1         24.242424\n2         20.650954\ndtype: float64\nSibSp\n0        68.237935\n1        23.456790\n2         3.142536\n4         2.020202\n3         1.795735\n8         0.785634\n5         0.561167\ndtype: float64\nParch\n0        76.094276\n1        13.243547\n2         8.978676\n3         0.561167\n5         0.561167\n4         0.448934\n6         0.112233\ndtype: float64\n",
          "output_type": "stream"
        }
      ]
    },
    {
      "cell_type": "markdown",
      "source": [
        "    Observation: Sibsp and Parch having many categories with frequency less than 5%, we will combined them in a single category"
      ],
      "metadata": {
        "id": "OrrIZoGxGAON"
      }
    },
    {
      "cell_type": "code",
      "source": [
        "# Combining categories for SibSp and Parch and creating new features\n",
        "data = train_data.copy()\n",
        "data['FamilySize'] = data['Parch']+data['SibSp']+1\n",
        "data['Parch'] = data['Parch'].replace({3:2,4:2,5:2,6:2})\n",
        "data['SibSp'] = data['SibSp'].replace({3:2,4:2,5:2,8:2})\n",
        "data['IsAlone'] = np.where((data.Parch ==0)& (data.SibSp ==0),1,0)\n",
        "discrete_feat.extend(['IsAlone','FamilySize'])\n",
        "print(data['Parch'].value_counts()/891*100)\n",
        "print(data['SibSp'].value_counts()/891*100)"
      ],
      "metadata": {
        "execution": {
          "iopub.status.busy": "2024-03-17T15:21:11.51149Z",
          "iopub.execute_input": "2024-03-17T15:21:11.511817Z",
          "iopub.status.idle": "2024-03-17T15:21:11.529186Z",
          "shell.execute_reply.started": "2024-03-17T15:21:11.511783Z",
          "shell.execute_reply": "2024-03-17T15:21:11.528082Z"
        },
        "trusted": true,
        "id": "3mzyZgM0GAON"
      },
      "execution_count": null,
      "outputs": []
    },
    {
      "cell_type": "code",
      "source": [
        "#Checking effects of descrete features on target feature\n",
        "for col in discrete_feat:\n",
        "    contigency_table = pd.crosstab(data['Survived'],data[col])\n",
        "    p_value = chi2_contingency(contigency_table)[1]\n",
        "    print(contigency_table)\n",
        "    print(col,':',p_value)\n",
        "\n",
        "    contigency_table.plot.bar()\n",
        "    plt.show()"
      ],
      "metadata": {
        "execution": {
          "iopub.status.busy": "2024-03-17T15:21:11.530994Z",
          "iopub.execute_input": "2024-03-17T15:21:11.531346Z",
          "iopub.status.idle": "2024-03-17T15:21:12.597245Z",
          "shell.execute_reply.started": "2024-03-17T15:21:11.531306Z",
          "shell.execute_reply": "2024-03-17T15:21:12.595954Z"
        },
        "trusted": true,
        "id": "C1tRcwDAGAON"
      },
      "execution_count": null,
      "outputs": []
    },
    {
      "cell_type": "markdown",
      "source": [
        "    As you can see in the plots that the every feature has an association with survived feature"
      ],
      "metadata": {
        "id": "jMggLykHGAOO"
      }
    },
    {
      "cell_type": "code",
      "source": [
        "#Listing continuous features\n",
        "continuous_feat = [col for col in train_data.select_dtypes(exclude='O')\n",
        "                   if train_data[col].nunique()>=25]\n",
        "\n",
        "#Let's see continuous features distribution or they have any kind of skewness\n",
        "for feature in continuous_feat:\n",
        "    data  = train_data.copy()\n",
        "    data[feature].hist()\n",
        "    plt.title(feature)\n",
        "    plt.show()\n",
        "    print('Skew :',data[feature].skew())"
      ],
      "metadata": {
        "execution": {
          "iopub.status.busy": "2024-03-17T15:21:12.598699Z",
          "iopub.execute_input": "2024-03-17T15:21:12.599051Z",
          "iopub.status.idle": "2024-03-17T15:21:12.950464Z",
          "shell.execute_reply.started": "2024-03-17T15:21:12.599012Z",
          "shell.execute_reply": "2024-03-17T15:21:12.949489Z"
        },
        "trusted": true,
        "id": "0m-DtzI6GAOO"
      },
      "execution_count": null,
      "outputs": []
    },
    {
      "cell_type": "code",
      "source": [
        "# Checking the outliers in Age\n",
        "# copy the master data\n",
        "data = train_data.copy()\n",
        "\n",
        "# fill NaN values with median\n",
        "data['Age'].fillna(data['Age'].median(),inplace=True)\n",
        "\n",
        "# printing the after using log\n",
        "print('Skew :',data['Age'].skew())\n",
        "\n",
        "# finding the interquatile range for detecting outliers\n",
        "ior = data['Age'].quantile(.75)-data['Age'].quantile(.25)\n",
        "\n",
        "# setting the lower and upper bounds\n",
        "lower_b = data['Age'].quantile(0.25)-ior*1.5\n",
        "lower_b = 0 if lower_b < 0 else lower_b\n",
        "upper_b = data['Age'].quantile(0.75)+ior*1.5\n",
        "\n",
        "# printing lower and upper bounds\n",
        "print('Lower bound :',lower_b,'\\nUpper bound :',upper_b)\n",
        "\n",
        "# counting the outliers in data\n",
        "data['Age'] = np.where((data['Age'] > lower_b) & (data['Age'] < upper_b),0,1 )\n",
        "print('Outliers in Age',len(data[data['Age']==1]))\n",
        "print('Overview of outliers\\n',sorted(train_data.loc[data['Age'] == 1,'Age']))"
      ],
      "metadata": {
        "execution": {
          "iopub.status.busy": "2024-03-17T15:21:12.951731Z",
          "iopub.execute_input": "2024-03-17T15:21:12.952038Z",
          "iopub.status.idle": "2024-03-17T15:21:12.974964Z",
          "shell.execute_reply.started": "2024-03-17T15:21:12.952005Z",
          "shell.execute_reply": "2024-03-17T15:21:12.974096Z"
        },
        "trusted": true,
        "id": "kmnjMx9HGAOO"
      },
      "execution_count": null,
      "outputs": []
    },
    {
      "cell_type": "markdown",
      "source": [
        "    Observation: Outliers in Age are valid data points"
      ],
      "metadata": {
        "id": "n5zISMcWGAOP"
      }
    },
    {
      "cell_type": "code",
      "source": [
        "  # copy the master data\n",
        "data = train_data.copy()\n",
        "\n",
        "# Converting <=0 value to 1 for log operation\n",
        "data.loc[data['Fare']<=0,'Fare'] = 1\n",
        "\n",
        "# printing the before using log\n",
        "print('before log :',data['Fare'].skew())\n",
        "\n",
        "# converting the data using log\n",
        "data.Fare = np.log(data.Fare)\n",
        "\n",
        "# printing the after using log\n",
        "print('after log :',data['Fare'].skew())\n",
        "\n",
        "# finding the interquatile range for detecting outliers\n",
        "ior = data['Fare'].quantile(.75)-data['Fare'].quantile(.25)\n",
        "\n",
        "# setting the lower and upper bounds\n",
        "lower_b = data['Fare'].quantile(0.25)-ior*1.5\n",
        "lower_b = 0 if lower_b < 0 else lower_b\n",
        "upper_b = data['Fare'].quantile(0.75)+ior*1.5\n",
        "\n",
        "# printing lower and upper bounds\n",
        "print('Lower bound :',lower_b,'\\nUpper bound :',upper_b)\n",
        "\n",
        "# counting the outliers in data\n",
        "data['Fare'] = np.where((data['Fare'] > lower_b) & (data['Fare'] < upper_b),0,1 )\n",
        "print('Outliers in Fare',len(data[data['Fare']==1]))\n",
        "print('Overview of outliers\\n',sorted(train_data.loc[data['Fare'] == 1,'Fare']))"
      ],
      "metadata": {
        "execution": {
          "iopub.status.busy": "2024-03-17T15:21:12.976414Z",
          "iopub.execute_input": "2024-03-17T15:21:12.976859Z",
          "iopub.status.idle": "2024-03-17T15:21:12.999184Z",
          "shell.execute_reply.started": "2024-03-17T15:21:12.976813Z",
          "shell.execute_reply": "2024-03-17T15:21:12.99736Z"
        },
        "trusted": true,
        "id": "7AEJiFfnGAOP"
      },
      "execution_count": null,
      "outputs": []
    },
    {
      "cell_type": "markdown",
      "source": [
        "    Observation: we need to winsorized the upper tail"
      ],
      "metadata": {
        "id": "EnDT-2CRGAOP"
      }
    },
    {
      "cell_type": "code",
      "source": [
        "#Checking effects of continuous features on target feature\n",
        "for col in continuous_feat:\n",
        "    data = train_data.copy()\n",
        "    data[col].fillna(data[col].median(),inplace=True)\n",
        "    data['bin'] = pd.qcut(data[col],q=6,duplicates='drop')\n",
        "    contigency_table = pd.crosstab(data['bin'],data['Survived'])\n",
        "\n",
        "    x = data[data.Survived==0][col]\n",
        "    y = data[data.Survived==1][col]\n",
        "\n",
        "    _,lp_value = levene(x,y)\n",
        "    _,p_value = kruskal(x,y)\n",
        "    chi2_p_value = chi2_contingency(contigency_table)[1]\n",
        "\n",
        "    print('Levene P-Value:',lp_value)\n",
        "    print('Kruskal P-Value:',p_value)\n",
        "    print('Contigency Table P Value:',chi2_p_value)\n",
        "\n",
        "    plt.figure(figsize=(16,12))\n",
        "\n",
        "    plt.subplot(121)\n",
        "    plt.boxplot(x=[x,y],labels=['Not Survived','Survived'],showmeans=True)\n",
        "    plt.title(col)\n",
        "\n",
        "    ax = plt.subplot(122)\n",
        "    contigency_table.plot.bar(ax=ax)\n",
        "    plt.title(col)\n",
        "    plt.show()"
      ],
      "metadata": {
        "execution": {
          "iopub.status.busy": "2024-03-17T15:21:13.000683Z",
          "iopub.execute_input": "2024-03-17T15:21:13.001109Z",
          "iopub.status.idle": "2024-03-17T15:21:13.84256Z",
          "shell.execute_reply.started": "2024-03-17T15:21:13.001063Z",
          "shell.execute_reply": "2024-03-17T15:21:13.841494Z"
        },
        "trusted": true,
        "id": "7o1olTKyGAOQ"
      },
      "execution_count": null,
      "outputs": []
    },
    {
      "cell_type": "markdown",
      "source": [
        "    Observation:  Significant association between the Age bins and survival suggests that the binning process captures meaningful information related to survival outcomes, even if there are no significant differences in median values between survival groups.\n",
        "    \n",
        "        For Fare both the continuous and binned values captures meaningful insights related to survival outcomes."
      ],
      "metadata": {
        "id": "r2HQNNkGGAOQ"
      }
    },
    {
      "cell_type": "code",
      "source": [
        "#Getting Categorical Features and printing number of their unique value\n",
        "categorical_feat = [col for col in train_data.select_dtypes(include='O')]\n",
        "\n",
        "for col in categorical_feat:\n",
        "    print(col,' : ',train_data[col].nunique())"
      ],
      "metadata": {
        "execution": {
          "iopub.status.busy": "2024-03-17T15:21:13.844058Z",
          "iopub.execute_input": "2024-03-17T15:21:13.844378Z",
          "iopub.status.idle": "2024-03-17T15:21:13.856859Z",
          "shell.execute_reply.started": "2024-03-17T15:21:13.844345Z",
          "shell.execute_reply": "2024-03-17T15:21:13.855821Z"
        },
        "trusted": true,
        "id": "Kkelhlr_GAOQ"
      },
      "execution_count": null,
      "outputs": []
    },
    {
      "cell_type": "code",
      "source": [
        "#Checking Name feature effects on target feature\n",
        "data=train_data.copy()\n",
        "\n",
        "# Extracting out the title like Mr. Miss. etc.\n",
        "data['Name'] = data['Name'].apply(lambda x: x.split(',')[1].split('.')[0].strip())\n",
        "social_status_mapping = {\n",
        "    'Capt': 'Rare',\n",
        "    'Col': 'Rare',\n",
        "    'Don': 'Rare',\n",
        "    'Dona': 'Rare',\n",
        "    'Dr': 'Rare',\n",
        "    'Jonkheer': 'Rare',\n",
        "    'Lady': 'Rare',\n",
        "    'Major': 'Rare',\n",
        "    'Mlle': 'Miss',\n",
        "    'Mme': 'Miss',\n",
        "    'Mrs':'Miss',\n",
        "    'Ms': 'Miss',\n",
        "    'Rev': 'Rare',\n",
        "    'Sir': 'Rare',\n",
        "    'the Countess': 'Rare'\n",
        "}\n",
        "\n",
        "data['Name'] = data['Name'].replace(social_status_mapping)\n",
        "\n",
        "#Ploting the data and see the correlation\n",
        "contigency_table = pd.crosstab(data['Name'],data['Survived'])\n",
        "plt.figure(figsize=(8,6))\n",
        "data.groupby('Name')['Survived'].mean().plot.bar(ax=plt.gca())\n",
        "plt.title('Name(Title)')\n",
        "plt.show()\n",
        "\n",
        "print('P Value:',chi2_contingency(contigency_table)[1])\n",
        "contigency_table"
      ],
      "metadata": {
        "execution": {
          "iopub.status.busy": "2024-03-17T15:21:13.858813Z",
          "iopub.execute_input": "2024-03-17T15:21:13.859136Z",
          "iopub.status.idle": "2024-03-17T15:21:14.050447Z",
          "shell.execute_reply.started": "2024-03-17T15:21:13.859103Z",
          "shell.execute_reply": "2024-03-17T15:21:14.049226Z"
        },
        "trusted": true,
        "id": "GYlyu5nTGAOQ"
      },
      "execution_count": null,
      "outputs": []
    },
    {
      "cell_type": "markdown",
      "source": [
        "    Observation: Title having significant association with the survival outcome"
      ],
      "metadata": {
        "id": "C-mF_Zg6GAOR"
      }
    },
    {
      "cell_type": "code",
      "source": [
        "#Checking Sex feature effects on target feature\n",
        "data=train_data.copy()\n",
        "\n",
        "#Ploting the data and see the correlation\n",
        "contigency_table = pd.crosstab(data['Sex'],data['Survived'])\n",
        "plt.figure(figsize=(12,9))\n",
        "contigency_table.plot.bar(ax=plt.gca())\n",
        "plt.title('Sex')\n",
        "plt.show()\n",
        "\n",
        "print('P Value:',chi2_contingency(contigency_table)[1])\n",
        "contigency_table"
      ],
      "metadata": {
        "execution": {
          "iopub.status.busy": "2024-03-17T15:21:14.052172Z",
          "iopub.execute_input": "2024-03-17T15:21:14.052598Z",
          "iopub.status.idle": "2024-03-17T15:21:14.254785Z",
          "shell.execute_reply.started": "2024-03-17T15:21:14.052553Z",
          "shell.execute_reply": "2024-03-17T15:21:14.25366Z"
        },
        "trusted": true,
        "id": "5s7yTi4OGAOR"
      },
      "execution_count": null,
      "outputs": []
    },
    {
      "cell_type": "markdown",
      "source": [
        "    Observation: It was obvious that gender plays a crusial role in survival outcome, Gender may have a correlation with titles"
      ],
      "metadata": {
        "id": "2Gion_RSGAOR"
      }
    },
    {
      "cell_type": "code",
      "source": [
        "#Checking Ticket effect on target feature\n",
        "# coping the master data\n",
        "data = train_data.copy()\n",
        "\n",
        "#Creating dictionary holding head count per ticket\n",
        "head_count = pd.Series(train_data.groupby('Ticket')['Name'].count()).to_dict()\n",
        "head_count = {key:3 if val>=3 else val for key,val in head_count.items()}\n",
        "\n",
        "#Creating new feature to map the head count\n",
        "data['TicketHeadCount'] = data['Ticket'].map(head_count)\n",
        "\n",
        "# ploting the data and see the correlation\n",
        "plt.figure(figsize=(12,9))\n",
        "contigency_table = pd.crosstab(data['TicketHeadCount'],data['Survived'])\n",
        "contigency_table.plot.bar(ax=plt.gca())\n",
        "plt.show()\n",
        "\n",
        "print('P value:',chi2_contingency(contigency_table)[1])\n",
        "contigency_table"
      ],
      "metadata": {
        "execution": {
          "iopub.status.busy": "2024-03-17T15:21:14.256873Z",
          "iopub.execute_input": "2024-03-17T15:21:14.257287Z",
          "iopub.status.idle": "2024-03-17T15:21:14.514724Z",
          "shell.execute_reply.started": "2024-03-17T15:21:14.257246Z",
          "shell.execute_reply": "2024-03-17T15:21:14.513723Z"
        },
        "trusted": true,
        "id": "kB1cN870GAOS"
      },
      "execution_count": null,
      "outputs": []
    },
    {
      "cell_type": "markdown",
      "source": [
        "    Observation: Ticket head count bins are divided in 3 groups as 1(unique ticket),2(2 persons), 3(more than 2 persons)"
      ],
      "metadata": {
        "id": "kwR52hBPGAOS"
      }
    },
    {
      "cell_type": "code",
      "source": [
        "#Checking Cabin effect on target feature\n",
        "# copy the master data\n",
        "data = train_data.copy()\n",
        "\n",
        "#Extract Cabin class\n",
        "data.Cabin = data.Cabin.str.get(0)\n",
        "# data.Cabin = data.Cabin.fillna('NA')\n",
        "\n",
        "# ploting the data find the correlation with survivers\n",
        "contigency_table = pd.crosstab(data['Cabin'],data['Survived'])\n",
        "plt.figure(figsize=(12,9))\n",
        "contigency_table.plot.bar(ax=plt.gca())\n",
        "plt.show()\n",
        "\n",
        "print('P value:',chi2_contingency(contigency_table)[1])\n",
        "contigency_table"
      ],
      "metadata": {
        "execution": {
          "iopub.status.busy": "2024-03-17T15:21:14.516028Z",
          "iopub.execute_input": "2024-03-17T15:21:14.516339Z",
          "iopub.status.idle": "2024-03-17T15:21:14.770106Z",
          "shell.execute_reply.started": "2024-03-17T15:21:14.516311Z",
          "shell.execute_reply": "2024-03-17T15:21:14.769217Z"
        },
        "trusted": true,
        "id": "ePa9uppAGAOS"
      },
      "execution_count": null,
      "outputs": []
    },
    {
      "cell_type": "markdown",
      "source": [
        "    Observation: Cabin classes with P value 0.17(>0.05) may not associated with survival octcomes"
      ],
      "metadata": {
        "id": "PlfNjhFxGAOT"
      }
    },
    {
      "cell_type": "code",
      "source": [
        "#Checking Embarked feature effects on target feature\n",
        "data=train_data.copy()\n",
        "\n",
        "# Filling NA with the mode of the distribution (only 2 NA are present)\n",
        "data['Embarked'].fillna('S',inplace=True)\n",
        "\n",
        "#Ploting the data and see the correlation\n",
        "contigency_table = pd.crosstab(data['Embarked'],data['Survived'])\n",
        "plt.figure(figsize=(12,9))\n",
        "contigency_table.plot.bar(ax=plt.gca())\n",
        "plt.show()\n",
        "\n",
        "print('P value:',chi2_contingency(contigency_table)[1])\n",
        "contigency_table"
      ],
      "metadata": {
        "execution": {
          "iopub.status.busy": "2024-03-17T15:21:14.771322Z",
          "iopub.execute_input": "2024-03-17T15:21:14.771602Z",
          "iopub.status.idle": "2024-03-17T15:21:15.125059Z",
          "shell.execute_reply.started": "2024-03-17T15:21:14.771575Z",
          "shell.execute_reply": "2024-03-17T15:21:15.124234Z"
        },
        "trusted": true,
        "id": "49fsW-ERGAOT"
      },
      "execution_count": null,
      "outputs": []
    },
    {
      "cell_type": "markdown",
      "source": [
        "    Observation: most people Embarked from S(Southampton) where people having lowest survival ratio and C(Cherbourg) having most survival ratio"
      ],
      "metadata": {
        "id": "vf66kir3GAOT"
      }
    },
    {
      "cell_type": "markdown",
      "source": [
        "## **Data Preprocessing**\n",
        "- **Handle Missing Data:**\n",
        "     Address missing values through imputation or removal.\n",
        "\n",
        "- **Data Cleaning:**\n",
        "    Clean and format the data, handling outliers and inconsistencies.\n",
        "\n",
        "- **Feature Engineering:**\n",
        "    Create new features or transform existing ones to enhance model performance.\n"
      ],
      "metadata": {
        "id": "H1EkLF-lGAOZ"
      }
    },
    {
      "cell_type": "code",
      "source": [
        "# Loading Training and Test data\n",
        "train_data = pd.read_csv('/kaggle/input/titanic/train.csv',index_col='PassengerId')\n",
        "test_data = pd.read_csv('/kaggle/input/titanic/test.csv',index_col='PassengerId')\n",
        "combined_data = [train_data,test_data]"
      ],
      "metadata": {
        "execution": {
          "iopub.status.busy": "2024-03-17T15:21:15.126329Z",
          "iopub.execute_input": "2024-03-17T15:21:15.126625Z",
          "iopub.status.idle": "2024-03-17T15:21:15.145316Z",
          "shell.execute_reply.started": "2024-03-17T15:21:15.126595Z",
          "shell.execute_reply": "2024-03-17T15:21:15.144214Z"
        },
        "trusted": true,
        "id": "Epat3O0FGAOZ"
      },
      "execution_count": null,
      "outputs": []
    },
    {
      "cell_type": "code",
      "source": [
        "# Imputing Missing values\n",
        "for data in combined_data:\n",
        "    # Extracting title from the Names\n",
        "    data['Title'] = data['Name'].apply(lambda x: x.split(',')[1].split('.')[0].strip())\n",
        "\n",
        "    # Creating new feature indicating age null values and\n",
        "    # Imputing missing values with the median age of the indivisual group base on 'Title' and 'Pclass'\n",
        "    data['AgeIsNull'] = np.where(data['Age'].isnull(),1,0)\n",
        "    age = data.groupby(['Title','Pclass'])['Age'].transform('median').fillna(data['Age'].median())\n",
        "    data['Age'] = np.where(data.Age.isnull(),age,data.Age)\n",
        "\n",
        "    # Imputing missing values with median (Only 1 missing value in test data)\n",
        "    data['Fare'] = data['Fare'].fillna(data.Fare.median())\n",
        "\n",
        "    # Creating new feature indicating Cabin null values and\n",
        "    #  Imputing missing values with NA\n",
        "    data['CabinIsNull'] = np.where(data['Cabin'].isnull(),1,0)\n",
        "    data['Cabin'] = data['Cabin'].fillna('NA')\n",
        "\n",
        "    # Imputing missing values with mode value which is 'S' (Only 2 missing value in train data)\n",
        "    data['Embarked'] = data['Embarked'].fillna('S')"
      ],
      "metadata": {
        "execution": {
          "iopub.status.busy": "2024-03-17T15:21:15.146653Z",
          "iopub.execute_input": "2024-03-17T15:21:15.146992Z",
          "iopub.status.idle": "2024-03-17T15:21:15.17306Z",
          "shell.execute_reply.started": "2024-03-17T15:21:15.14696Z",
          "shell.execute_reply": "2024-03-17T15:21:15.171981Z"
        },
        "trusted": true,
        "id": "Na5MRaEgGAOa"
      },
      "execution_count": null,
      "outputs": []
    },
    {
      "cell_type": "code",
      "source": [
        "# Formating categorical features\n",
        "for data in combined_data:\n",
        "    # Formating Title to numerical form\n",
        "    data['Title'] = data['Title'].replace(social_status_mapping)\n",
        "\n",
        "    # Converting male/female to 1/0\n",
        "    data['Sex'] = data['Sex'].replace({'female':0,'male':1})\n",
        "\n",
        "    #Creating dictionary holding head count per ticket\n",
        "    head_count = pd.Series(data.groupby('Ticket')['Name'].count()).to_dict()\n",
        "\n",
        "    # Creating new feature to map the head count\n",
        "    data['TicketHeadCount'] = data['Ticket'].replace(head_count)\n"
      ],
      "metadata": {
        "execution": {
          "iopub.status.busy": "2024-03-17T15:21:15.174597Z",
          "iopub.execute_input": "2024-03-17T15:21:15.17495Z",
          "iopub.status.idle": "2024-03-17T15:21:15.341015Z",
          "shell.execute_reply.started": "2024-03-17T15:21:15.174916Z",
          "shell.execute_reply": "2024-03-17T15:21:15.340008Z"
        },
        "trusted": true,
        "id": "6AqG-j4vGAOa"
      },
      "execution_count": null,
      "outputs": []
    },
    {
      "cell_type": "code",
      "source": [
        "# Formating Numerical features\n",
        "for data in combined_data:\n",
        "    # Converting Age to 16 bins base on percentile\n",
        "    data['AgeBin'] = pd.qcut(data['Age'],q=6,duplicates='drop',labels=False)\n",
        "\n",
        "    # Converting Fare to 30 bins base on percentile\n",
        "    data['FareBin'] = pd.qcut(data['Fare'],q=6,duplicates='drop',labels=False)\n",
        "\n",
        "    # creating if the person travelling alone or not\n",
        "    data['IsAlone'] = np.where((data.Parch ==0)& (data.SibSp ==0),1,0)\n",
        "    data['FamilyMember'] = data['SibSp']+data['Parch']+1"
      ],
      "metadata": {
        "execution": {
          "iopub.status.busy": "2024-03-17T15:21:15.342529Z",
          "iopub.execute_input": "2024-03-17T15:21:15.342978Z",
          "iopub.status.idle": "2024-03-17T15:21:15.362817Z",
          "shell.execute_reply.started": "2024-03-17T15:21:15.342932Z",
          "shell.execute_reply": "2024-03-17T15:21:15.361694Z"
        },
        "trusted": true,
        "id": "IG7kUIBSGAOb"
      },
      "execution_count": null,
      "outputs": []
    },
    {
      "cell_type": "code",
      "source": [
        "# Performing One Hot Encoding on Training and Test data\n",
        "train_data = pd.get_dummies(train_data,columns=[\"Title\",\"Embarked\",'AgeBin','FareBin'],prefix=[\"Title\",\"Emb\",'Age','Fare'])\n",
        "test_data = pd.get_dummies(test_data,columns=[\"Title\",\"Embarked\",'AgeBin','FareBin'],prefix=[\"Title\",\"Emb\",'Age','Fare'])"
      ],
      "metadata": {
        "execution": {
          "iopub.status.busy": "2024-03-17T15:21:15.364171Z",
          "iopub.execute_input": "2024-03-17T15:21:15.364478Z",
          "iopub.status.idle": "2024-03-17T15:21:15.387084Z",
          "shell.execute_reply.started": "2024-03-17T15:21:15.364447Z",
          "shell.execute_reply": "2024-03-17T15:21:15.386196Z"
        },
        "trusted": true,
        "id": "JigJoQb2GAOb"
      },
      "execution_count": null,
      "outputs": []
    },
    {
      "cell_type": "code",
      "source": [
        "# Dropping Unnecessary features\n",
        "drop = ['Name', 'Age', 'Ticket', 'Fare', 'Cabin']\n",
        "train_data.drop(drop,inplace=True,axis=1)\n",
        "test_data.drop(drop,inplace=True,axis=1)"
      ],
      "metadata": {
        "execution": {
          "iopub.status.busy": "2024-03-17T15:21:15.388369Z",
          "iopub.execute_input": "2024-03-17T15:21:15.388673Z",
          "iopub.status.idle": "2024-03-17T15:21:15.397967Z",
          "shell.execute_reply.started": "2024-03-17T15:21:15.388642Z",
          "shell.execute_reply": "2024-03-17T15:21:15.396877Z"
        },
        "trusted": true,
        "id": "sqh2pXgFGAOc"
      },
      "execution_count": null,
      "outputs": []
    },
    {
      "cell_type": "code",
      "source": [
        "# Ploting correlation heatmap\n",
        "corr = train_data.drop('Survived',axis=1).corr()\n",
        "plt.figure(figsize=(16,16))\n",
        "sns.heatmap(data=abs(corr),annot=True)\n",
        "plt.title('Correlation Heatmap')\n",
        "plt.show()"
      ],
      "metadata": {
        "execution": {
          "iopub.status.busy": "2024-03-17T15:21:15.399226Z",
          "iopub.execute_input": "2024-03-17T15:21:15.399654Z",
          "iopub.status.idle": "2024-03-17T15:21:18.896466Z",
          "shell.execute_reply.started": "2024-03-17T15:21:15.399622Z",
          "shell.execute_reply": "2024-03-17T15:21:18.895436Z"
        },
        "trusted": true,
        "id": "8rulOJyhGAOc"
      },
      "execution_count": null,
      "outputs": []
    },
    {
      "cell_type": "code",
      "source": [
        "# Plotting correlaton with target feature\n",
        "survived = train_data.Survived\n",
        "plt.figure(figsize=(10,6))\n",
        "corr = train_data.drop('Survived',axis=1).corrwith(survived)\n",
        "corr = abs(corr)\n",
        "corr.sort_values(ascending=False,inplace=True)\n",
        "ax = corr.plot.bar(rot = 40)"
      ],
      "metadata": {
        "execution": {
          "iopub.status.busy": "2024-03-17T15:21:18.897585Z",
          "iopub.execute_input": "2024-03-17T15:21:18.897951Z",
          "iopub.status.idle": "2024-03-17T15:21:19.210974Z",
          "shell.execute_reply.started": "2024-03-17T15:21:18.897916Z",
          "shell.execute_reply": "2024-03-17T15:21:19.209997Z"
        },
        "trusted": true,
        "id": "Fm5DkSZCGAOc"
      },
      "execution_count": null,
      "outputs": []
    },
    {
      "cell_type": "markdown",
      "source": [
        "    Observation: to Remove multicollinearity issue we are going to drop few highly correlated features"
      ],
      "metadata": {
        "id": "6HmLrmndGAOd"
      }
    },
    {
      "cell_type": "code",
      "source": [
        "# Removing features which are highly correlated(>0.7)\n",
        "d_features = ['Survived','Title_Miss','Sex','CabinIsNull','Parch','SibSp','TicketHeadCount'\n",
        "             ,'Emb_S']\n",
        "# Ploting correlation heatmap\n",
        "corr = train_data.drop(d_features,axis=1).corr()\n",
        "plt.figure(figsize=(16,16))\n",
        "sns.heatmap(data=abs(corr)>=0.7,annot=True)\n",
        "plt.title('Correlation Heatmap')\n",
        "plt.show()"
      ],
      "metadata": {
        "execution": {
          "iopub.status.busy": "2024-03-17T15:21:19.21239Z",
          "iopub.execute_input": "2024-03-17T15:21:19.21276Z",
          "iopub.status.idle": "2024-03-17T15:21:21.13965Z",
          "shell.execute_reply.started": "2024-03-17T15:21:19.212698Z",
          "shell.execute_reply": "2024-03-17T15:21:21.138591Z"
        },
        "trusted": true,
        "id": "G37bCyhfGAOd"
      },
      "execution_count": null,
      "outputs": []
    },
    {
      "cell_type": "code",
      "source": [
        "# Dropping the features from the test and train data\n",
        "train_data.drop(d_features[1:],axis=1,inplace=True)\n",
        "test_data.drop(d_features[1:],axis=1,inplace=True)"
      ],
      "metadata": {
        "execution": {
          "iopub.status.busy": "2024-03-17T15:21:21.141265Z",
          "iopub.execute_input": "2024-03-17T15:21:21.141675Z",
          "iopub.status.idle": "2024-03-17T15:21:21.151098Z",
          "shell.execute_reply.started": "2024-03-17T15:21:21.141633Z",
          "shell.execute_reply": "2024-03-17T15:21:21.149403Z"
        },
        "trusted": true,
        "id": "3fT5mI2-GAOd"
      },
      "execution_count": null,
      "outputs": []
    },
    {
      "cell_type": "code",
      "source": [
        "# Fitting in Regression model to check relationship of survival outcomes with the features\n",
        "model = sm.OLS(train_data.Survived,train_data.drop(['Survived'],axis=1)).fit()\n",
        "model.summary()"
      ],
      "metadata": {
        "execution": {
          "iopub.status.busy": "2024-03-17T15:21:21.15305Z",
          "iopub.execute_input": "2024-03-17T15:21:21.153507Z",
          "iopub.status.idle": "2024-03-17T15:21:21.227522Z",
          "shell.execute_reply.started": "2024-03-17T15:21:21.153436Z",
          "shell.execute_reply": "2024-03-17T15:21:21.226341Z"
        },
        "trusted": true,
        "id": "RXcep02xGAOe"
      },
      "execution_count": null,
      "outputs": []
    },
    {
      "cell_type": "markdown",
      "source": [
        "    Observation: By observing the summary we can say who have paid higher fare have higher chance of survival. Where Age group 3 has the highest change of survival and Age group 5 has lowest"
      ],
      "metadata": {
        "id": "oaglNRmPGAOe"
      }
    },
    {
      "cell_type": "code",
      "source": [
        "# Only taking first 12 features for model fitiing\n",
        "corr = train_data.drop('Survived',axis=1).corrwith(survived)\n",
        "corr = abs(corr)\n",
        "corr.sort_values(ascending=False,inplace=True)\n",
        "final_features = corr.index[:12]"
      ],
      "metadata": {
        "execution": {
          "iopub.status.busy": "2024-03-17T15:21:21.233213Z",
          "iopub.execute_input": "2024-03-17T15:21:21.234076Z",
          "iopub.status.idle": "2024-03-17T15:21:21.256781Z",
          "shell.execute_reply.started": "2024-03-17T15:21:21.234022Z",
          "shell.execute_reply": "2024-03-17T15:21:21.255549Z"
        },
        "trusted": true,
        "id": "gg_vhgauGAOf"
      },
      "execution_count": null,
      "outputs": []
    },
    {
      "cell_type": "markdown",
      "source": [
        "## **Final Fitting and Submission**"
      ],
      "metadata": {
        "id": "8eZhYV0zGAOj"
      }
    },
    {
      "cell_type": "code",
      "source": [
        "model = XGBClassifier(objective='binary:logistic',\n",
        "                      n_estimators = 100,\n",
        "                      learning_rate=0.02,\n",
        "                      max_depth=7,\n",
        "                      gamma=0.2,\n",
        "                      reg_alpha=0.5,\n",
        "                      min_child_weight=10,\n",
        "                      n_jobs=5)\n",
        "\n",
        "acc_score = cross_val_score(model,\n",
        "                            train_data.drop('Survived',axis=1)[final_features],\n",
        "                            train_data.Survived,\n",
        "                            scoring='accuracy')\n",
        "print(acc_score.mean()*100)"
      ],
      "metadata": {
        "execution": {
          "iopub.status.busy": "2024-03-17T15:21:21.258804Z",
          "iopub.execute_input": "2024-03-17T15:21:21.259615Z",
          "iopub.status.idle": "2024-03-17T15:21:22.025402Z",
          "shell.execute_reply.started": "2024-03-17T15:21:21.259562Z",
          "shell.execute_reply": "2024-03-17T15:21:22.024193Z"
        },
        "trusted": true,
        "id": "RG5hF-zVGAOk"
      },
      "execution_count": null,
      "outputs": []
    },
    {
      "cell_type": "code",
      "source": [
        "model.fit(train_data.drop('Survived',axis=1)[final_features],train_data.Survived)\n",
        "pred = model.predict(test_data[final_features])"
      ],
      "metadata": {
        "execution": {
          "iopub.status.busy": "2024-03-17T15:21:22.02668Z",
          "iopub.execute_input": "2024-03-17T15:21:22.027021Z",
          "iopub.status.idle": "2024-03-17T15:21:22.197457Z",
          "shell.execute_reply.started": "2024-03-17T15:21:22.026987Z",
          "shell.execute_reply": "2024-03-17T15:21:22.196433Z"
        },
        "trusted": true,
        "id": "dVlKwPOyGAOk"
      },
      "execution_count": null,
      "outputs": []
    },
    {
      "cell_type": "code",
      "source": [
        "output = pd.DataFrame({'PassengerId':test_data.index,'Survived':pred})\n",
        "output.to_csv('/kaggle/working/submission.csv',index=False)"
      ],
      "metadata": {
        "execution": {
          "iopub.status.busy": "2024-03-17T15:21:22.198824Z",
          "iopub.execute_input": "2024-03-17T15:21:22.19912Z",
          "iopub.status.idle": "2024-03-17T15:21:22.207893Z",
          "shell.execute_reply.started": "2024-03-17T15:21:22.199091Z",
          "shell.execute_reply": "2024-03-17T15:21:22.206967Z"
        },
        "trusted": true,
        "id": "9qoYw4IYGAOk"
      },
      "execution_count": null,
      "outputs": []
    }
  ]
}
