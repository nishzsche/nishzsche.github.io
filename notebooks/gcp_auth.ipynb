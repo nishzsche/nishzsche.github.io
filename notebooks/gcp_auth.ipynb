{
  "cells": [
    {
      "cell_type": "markdown",
      "metadata": {
        "id": "BIlYtG4CrIhx"
      },
      "source": [
        "#Authenticate to GCP\n",
        "\n",
        "Colab allows you to perform operations on Google Cloud Platform via GCP APIs. You must first authenticate to a project you have the appropriate permissions to. Learn more about GCP projects [here](https://cloud.google.com/resource-manager/docs/creating-managing-projects)."
      ]
    },
    {
      "cell_type": "code",
      "execution_count": null,
      "metadata": {
        "id": "u3OGMjZtm4Pg"
      },
      "outputs": [],
      "source": [
        "from google.colab import auth\n",
        "PROJECT_ID = \"\" # @param {type: \"string\"}\n",
        "auth.authenticate_user(project_id=PROJECT_ID)"
      ]
    }
  ],
  "metadata": {
    "colab": {
      "provenance": []
    },
    "kernelspec": {
      "display_name": "Python 3",
      "name": "python3"
    },
    "language_info": {
      "name": "python"
    }
  },
  "nbformat": 4,
  "nbformat_minor": 0
}