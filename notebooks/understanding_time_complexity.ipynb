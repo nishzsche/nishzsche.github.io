{
  "nbformat": 4,
  "nbformat_minor": 0,
  "metadata": {
    "colab": {
      "provenance": [],
      "authorship_tag": "ABX9TyPh0T6ruvlwCsBdArZJZg1J",
      "include_colab_link": true
    },
    "kernelspec": {
      "name": "python3",
      "display_name": "Python 3"
    },
    "language_info": {
      "name": "python"
    }
  },
  "cells": [
    {
      "cell_type": "markdown",
      "metadata": {
        "id": "view-in-github",
        "colab_type": "text"
      },
      "source": [
        "<a href=\"https://colab.research.google.com/github/nishzsche/nishzsche.github.io/blob/gh-pages/notebooks/understanding_time_complexity.ipynb\" target=\"_parent\"><img src=\"https://colab.research.google.com/assets/colab-badge.svg\" alt=\"Open In Colab\"/></a>"
      ]
    },
    {
      "cell_type": "markdown",
      "source": [
        "# Sorting Algorithms Visualizer\n",
        "## Objective\n",
        "* Create a visual tool that demonstrates the functioning of various sorting algorithms, such as Bubble Sort, Insertion Sort, Selection Sort, Merge Sort, Quick Sort, and Heap Sort.\n",
        "* The visualizer should allow users to observe how each algorithm sorts a list of numbers step-by-step, illustrating the time complexity differences between algorithms.\n",
        "\n",
        "## Key Learning Goals\n",
        "\n",
        "* Understanding Time Complexity: See how different algorithms perform based on their time complexity.\n",
        "* Algorithm Behavior: Learn the inner workings of each sorting algorithm, including how they handle data, swaps, and comparisons.\n",
        "* Visualization Skills: Develop skills in data visualization, particularly in illustrating dynamic processes like sorting."
      ],
      "metadata": {
        "id": "mPf4fIeo98cS"
      }
    },
    {
      "cell_type": "code",
      "execution_count": null,
      "metadata": {
        "id": "GvHU9xHk9tp1"
      },
      "outputs": [],
      "source": []
    }
  ]
}