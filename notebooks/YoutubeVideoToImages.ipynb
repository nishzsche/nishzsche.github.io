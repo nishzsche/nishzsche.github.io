{
  "nbformat": 4,
  "nbformat_minor": 0,
  "metadata": {
    "colab": {
      "provenance": [],
      "toc_visible": true,
      "mount_file_id": "1kxtW7LmKmmvasoVX0RaNxpcujA8ztLKu",
      "authorship_tag": "ABX9TyMv7Bm1K23eql9hrnOp5q6h",
      "include_colab_link": true
    },
    "kernelspec": {
      "name": "python3",
      "display_name": "Python 3"
    },
    "language_info": {
      "name": "python"
    }
  },
  "cells": [
    {
      "cell_type": "markdown",
      "metadata": {
        "id": "view-in-github",
        "colab_type": "text"
      },
      "source": [
        "<a href=\"https://colab.research.google.com/github/nishzsche/nishzsche.github.io/blob/gh-pages/notebooks/YoutubeVideoToImages.ipynb\" target=\"_parent\"><img src=\"https://colab.research.google.com/assets/colab-badge.svg\" alt=\"Open In Colab\"/></a>"
      ]
    },
    {
      "cell_type": "code",
      "source": [
        "from google.colab import drive\n",
        "drive.mount('/content/drive')"
      ],
      "metadata": {
        "colab": {
          "base_uri": "https://localhost:8080/"
        },
        "id": "E4UkjqAkLdcV",
        "outputId": "f6c6444c-cd46-4a56-c0fd-083c568b6349"
      },
      "execution_count": null,
      "outputs": [
        {
          "output_type": "stream",
          "name": "stdout",
          "text": [
            "Drive already mounted at /content/drive; to attempt to forcibly remount, call drive.mount(\"/content/drive\", force_remount=True).\n"
          ]
        }
      ]
    },
    {
      "cell_type": "code",
      "source": [
        "!ls"
      ],
      "metadata": {
        "colab": {
          "base_uri": "https://localhost:8080/"
        },
        "id": "x2uLqhuML3Xr",
        "outputId": "a61a050a-1214-4e4c-9626-6d1044514893"
      },
      "execution_count": null,
      "outputs": [
        {
          "output_type": "stream",
          "name": "stdout",
          "text": [
            "drive  sample_data\n"
          ]
        }
      ]
    },
    {
      "cell_type": "code",
      "source": [
        "!ls 'drive/MyDrive/Projects/Video to Images'"
      ],
      "metadata": {
        "colab": {
          "base_uri": "https://localhost:8080/"
        },
        "id": "FsSA0GzvL6C5",
        "outputId": "2ee7d8b1-75f6-42ae-be0d-9856a95e220b"
      },
      "execution_count": null,
      "outputs": [
        {
          "output_type": "stream",
          "name": "stdout",
          "text": [
            "'StatQuest_ Linear Discriminant Analysis (LDA) clearly explained..mp4'\n"
          ]
        }
      ]
    },
    {
      "cell_type": "code",
      "source": [
        "folderpath = 'drive/MyDrive/Projects/Video to Images/'\n",
        "filename = 'StatQuest_ Linear Discriminant Analysis (LDA) clearly explained..mp4'"
      ],
      "metadata": {
        "id": "1H0hzzATL7NZ"
      },
      "execution_count": null,
      "outputs": []
    },
    {
      "cell_type": "code",
      "source": [
        "import cv2\n",
        "import numpy as np\n"
      ],
      "metadata": {
        "id": "UNa6l83yMdJO"
      },
      "execution_count": null,
      "outputs": []
    },
    {
      "cell_type": "code",
      "source": [
        "import os"
      ],
      "metadata": {
        "id": "_eMQiMasMuA7"
      },
      "execution_count": null,
      "outputs": []
    },
    {
      "cell_type": "code",
      "source": [
        "# Load the video\n",
        "video_path = os.path.join(folderpath, filename)\n",
        "cap = cv2.VideoCapture(video_path)"
      ],
      "metadata": {
        "id": "C6vQdttFMhDg"
      },
      "execution_count": null,
      "outputs": []
    },
    {
      "cell_type": "code",
      "source": [
        "# Initialize variables\n",
        "prev_frame = None\n",
        "frame_count = 0\n",
        "screenshot_count = 0\n",
        "threshold = 30  # Sensitivity to detect changes, adjust as necessary\n",
        "\n",
        "def save_screenshot(frame, count):\n",
        "    screenshot_path = os.path.join(folderpath, f'screenshot_{count}.png')\n",
        "    cv2.imwrite(screenshot_path, frame)\n",
        "    print(f'Saved screenshot: {screenshot_path}')\n",
        "\n",
        "# Read and process the video frames\n",
        "while cap.isOpened():\n",
        "    ret, frame = cap.read()\n",
        "    if not ret:\n",
        "        break\n",
        "\n",
        "    frame_count += 1\n",
        "\n",
        "    # Convert the frame to grayscale\n",
        "    gray_frame = cv2.cvtColor(frame, cv2.COLOR_BGR2GRAY)\n",
        "\n",
        "    if prev_frame is not None:\n",
        "        # Compute the absolute difference between the current frame and previous frame\n",
        "        diff = cv2.absdiff(prev_frame, gray_frame)\n",
        "        # Threshold the difference\n",
        "        _, diff_thresh = cv2.threshold(diff, threshold, 255, cv2.THRESH_BINARY)\n",
        "        # Compute the percentage of changed pixels\n",
        "        change_percentage = np.sum(diff_thresh) / (diff_thresh.shape[0] * diff_thresh.shape[1])\n",
        "\n",
        "        if change_percentage > 0.01:  # Adjust this threshold as needed\n",
        "            save_screenshot(frame, screenshot_count)\n",
        "            screenshot_count += 1\n",
        "\n",
        "    prev_frame = gray_frame\n",
        "\n",
        "cap.release()\n",
        "cv2.destroyAllWindows()"
      ],
      "metadata": {
        "colab": {
          "base_uri": "https://localhost:8080/"
        },
        "id": "kQ8GNnjyMJRd",
        "outputId": "26452138-6a2b-4b62-e218-52925b514d61"
      },
      "execution_count": null,
      "outputs": [
        {
          "output_type": "stream",
          "name": "stdout",
          "text": [
            "Saved screenshot: drive/MyDrive/Projects/Video to Images/screenshot_0.png\n",
            "Saved screenshot: drive/MyDrive/Projects/Video to Images/screenshot_1.png\n",
            "Saved screenshot: drive/MyDrive/Projects/Video to Images/screenshot_2.png\n",
            "Saved screenshot: drive/MyDrive/Projects/Video to Images/screenshot_3.png\n",
            "Saved screenshot: drive/MyDrive/Projects/Video to Images/screenshot_4.png\n",
            "Saved screenshot: drive/MyDrive/Projects/Video to Images/screenshot_5.png\n",
            "Saved screenshot: drive/MyDrive/Projects/Video to Images/screenshot_6.png\n",
            "Saved screenshot: drive/MyDrive/Projects/Video to Images/screenshot_7.png\n",
            "Saved screenshot: drive/MyDrive/Projects/Video to Images/screenshot_8.png\n",
            "Saved screenshot: drive/MyDrive/Projects/Video to Images/screenshot_9.png\n",
            "Saved screenshot: drive/MyDrive/Projects/Video to Images/screenshot_10.png\n",
            "Saved screenshot: drive/MyDrive/Projects/Video to Images/screenshot_11.png\n",
            "Saved screenshot: drive/MyDrive/Projects/Video to Images/screenshot_12.png\n",
            "Saved screenshot: drive/MyDrive/Projects/Video to Images/screenshot_13.png\n",
            "Saved screenshot: drive/MyDrive/Projects/Video to Images/screenshot_14.png\n",
            "Saved screenshot: drive/MyDrive/Projects/Video to Images/screenshot_15.png\n",
            "Saved screenshot: drive/MyDrive/Projects/Video to Images/screenshot_16.png\n",
            "Saved screenshot: drive/MyDrive/Projects/Video to Images/screenshot_17.png\n",
            "Saved screenshot: drive/MyDrive/Projects/Video to Images/screenshot_18.png\n",
            "Saved screenshot: drive/MyDrive/Projects/Video to Images/screenshot_19.png\n",
            "Saved screenshot: drive/MyDrive/Projects/Video to Images/screenshot_20.png\n",
            "Saved screenshot: drive/MyDrive/Projects/Video to Images/screenshot_21.png\n",
            "Saved screenshot: drive/MyDrive/Projects/Video to Images/screenshot_22.png\n",
            "Saved screenshot: drive/MyDrive/Projects/Video to Images/screenshot_23.png\n",
            "Saved screenshot: drive/MyDrive/Projects/Video to Images/screenshot_24.png\n",
            "Saved screenshot: drive/MyDrive/Projects/Video to Images/screenshot_25.png\n",
            "Saved screenshot: drive/MyDrive/Projects/Video to Images/screenshot_26.png\n",
            "Saved screenshot: drive/MyDrive/Projects/Video to Images/screenshot_27.png\n",
            "Saved screenshot: drive/MyDrive/Projects/Video to Images/screenshot_28.png\n",
            "Saved screenshot: drive/MyDrive/Projects/Video to Images/screenshot_29.png\n",
            "Saved screenshot: drive/MyDrive/Projects/Video to Images/screenshot_30.png\n",
            "Saved screenshot: drive/MyDrive/Projects/Video to Images/screenshot_31.png\n",
            "Saved screenshot: drive/MyDrive/Projects/Video to Images/screenshot_32.png\n",
            "Saved screenshot: drive/MyDrive/Projects/Video to Images/screenshot_33.png\n",
            "Saved screenshot: drive/MyDrive/Projects/Video to Images/screenshot_34.png\n",
            "Saved screenshot: drive/MyDrive/Projects/Video to Images/screenshot_35.png\n",
            "Saved screenshot: drive/MyDrive/Projects/Video to Images/screenshot_36.png\n",
            "Saved screenshot: drive/MyDrive/Projects/Video to Images/screenshot_37.png\n",
            "Saved screenshot: drive/MyDrive/Projects/Video to Images/screenshot_38.png\n",
            "Saved screenshot: drive/MyDrive/Projects/Video to Images/screenshot_39.png\n",
            "Saved screenshot: drive/MyDrive/Projects/Video to Images/screenshot_40.png\n",
            "Saved screenshot: drive/MyDrive/Projects/Video to Images/screenshot_41.png\n",
            "Saved screenshot: drive/MyDrive/Projects/Video to Images/screenshot_42.png\n",
            "Saved screenshot: drive/MyDrive/Projects/Video to Images/screenshot_43.png\n",
            "Saved screenshot: drive/MyDrive/Projects/Video to Images/screenshot_44.png\n",
            "Saved screenshot: drive/MyDrive/Projects/Video to Images/screenshot_45.png\n",
            "Saved screenshot: drive/MyDrive/Projects/Video to Images/screenshot_46.png\n",
            "Saved screenshot: drive/MyDrive/Projects/Video to Images/screenshot_47.png\n",
            "Saved screenshot: drive/MyDrive/Projects/Video to Images/screenshot_48.png\n",
            "Saved screenshot: drive/MyDrive/Projects/Video to Images/screenshot_49.png\n",
            "Saved screenshot: drive/MyDrive/Projects/Video to Images/screenshot_50.png\n",
            "Saved screenshot: drive/MyDrive/Projects/Video to Images/screenshot_51.png\n",
            "Saved screenshot: drive/MyDrive/Projects/Video to Images/screenshot_52.png\n",
            "Saved screenshot: drive/MyDrive/Projects/Video to Images/screenshot_53.png\n",
            "Saved screenshot: drive/MyDrive/Projects/Video to Images/screenshot_54.png\n",
            "Saved screenshot: drive/MyDrive/Projects/Video to Images/screenshot_55.png\n",
            "Saved screenshot: drive/MyDrive/Projects/Video to Images/screenshot_56.png\n",
            "Saved screenshot: drive/MyDrive/Projects/Video to Images/screenshot_57.png\n",
            "Saved screenshot: drive/MyDrive/Projects/Video to Images/screenshot_58.png\n",
            "Saved screenshot: drive/MyDrive/Projects/Video to Images/screenshot_59.png\n",
            "Saved screenshot: drive/MyDrive/Projects/Video to Images/screenshot_60.png\n",
            "Saved screenshot: drive/MyDrive/Projects/Video to Images/screenshot_61.png\n",
            "Saved screenshot: drive/MyDrive/Projects/Video to Images/screenshot_62.png\n",
            "Saved screenshot: drive/MyDrive/Projects/Video to Images/screenshot_63.png\n",
            "Saved screenshot: drive/MyDrive/Projects/Video to Images/screenshot_64.png\n",
            "Saved screenshot: drive/MyDrive/Projects/Video to Images/screenshot_65.png\n",
            "Saved screenshot: drive/MyDrive/Projects/Video to Images/screenshot_66.png\n",
            "Saved screenshot: drive/MyDrive/Projects/Video to Images/screenshot_67.png\n",
            "Saved screenshot: drive/MyDrive/Projects/Video to Images/screenshot_68.png\n",
            "Saved screenshot: drive/MyDrive/Projects/Video to Images/screenshot_69.png\n",
            "Saved screenshot: drive/MyDrive/Projects/Video to Images/screenshot_70.png\n",
            "Saved screenshot: drive/MyDrive/Projects/Video to Images/screenshot_71.png\n",
            "Saved screenshot: drive/MyDrive/Projects/Video to Images/screenshot_72.png\n",
            "Saved screenshot: drive/MyDrive/Projects/Video to Images/screenshot_73.png\n",
            "Saved screenshot: drive/MyDrive/Projects/Video to Images/screenshot_74.png\n",
            "Saved screenshot: drive/MyDrive/Projects/Video to Images/screenshot_75.png\n",
            "Saved screenshot: drive/MyDrive/Projects/Video to Images/screenshot_76.png\n",
            "Saved screenshot: drive/MyDrive/Projects/Video to Images/screenshot_77.png\n",
            "Saved screenshot: drive/MyDrive/Projects/Video to Images/screenshot_78.png\n",
            "Saved screenshot: drive/MyDrive/Projects/Video to Images/screenshot_79.png\n",
            "Saved screenshot: drive/MyDrive/Projects/Video to Images/screenshot_80.png\n",
            "Saved screenshot: drive/MyDrive/Projects/Video to Images/screenshot_81.png\n",
            "Saved screenshot: drive/MyDrive/Projects/Video to Images/screenshot_82.png\n",
            "Saved screenshot: drive/MyDrive/Projects/Video to Images/screenshot_83.png\n",
            "Saved screenshot: drive/MyDrive/Projects/Video to Images/screenshot_84.png\n",
            "Saved screenshot: drive/MyDrive/Projects/Video to Images/screenshot_85.png\n",
            "Saved screenshot: drive/MyDrive/Projects/Video to Images/screenshot_86.png\n",
            "Saved screenshot: drive/MyDrive/Projects/Video to Images/screenshot_87.png\n",
            "Saved screenshot: drive/MyDrive/Projects/Video to Images/screenshot_88.png\n",
            "Saved screenshot: drive/MyDrive/Projects/Video to Images/screenshot_89.png\n",
            "Saved screenshot: drive/MyDrive/Projects/Video to Images/screenshot_90.png\n",
            "Saved screenshot: drive/MyDrive/Projects/Video to Images/screenshot_91.png\n",
            "Saved screenshot: drive/MyDrive/Projects/Video to Images/screenshot_92.png\n",
            "Saved screenshot: drive/MyDrive/Projects/Video to Images/screenshot_93.png\n",
            "Saved screenshot: drive/MyDrive/Projects/Video to Images/screenshot_94.png\n",
            "Saved screenshot: drive/MyDrive/Projects/Video to Images/screenshot_95.png\n",
            "Saved screenshot: drive/MyDrive/Projects/Video to Images/screenshot_96.png\n",
            "Saved screenshot: drive/MyDrive/Projects/Video to Images/screenshot_97.png\n",
            "Saved screenshot: drive/MyDrive/Projects/Video to Images/screenshot_98.png\n",
            "Saved screenshot: drive/MyDrive/Projects/Video to Images/screenshot_99.png\n",
            "Saved screenshot: drive/MyDrive/Projects/Video to Images/screenshot_100.png\n",
            "Saved screenshot: drive/MyDrive/Projects/Video to Images/screenshot_101.png\n",
            "Saved screenshot: drive/MyDrive/Projects/Video to Images/screenshot_102.png\n",
            "Saved screenshot: drive/MyDrive/Projects/Video to Images/screenshot_103.png\n",
            "Saved screenshot: drive/MyDrive/Projects/Video to Images/screenshot_104.png\n",
            "Saved screenshot: drive/MyDrive/Projects/Video to Images/screenshot_105.png\n",
            "Saved screenshot: drive/MyDrive/Projects/Video to Images/screenshot_106.png\n",
            "Saved screenshot: drive/MyDrive/Projects/Video to Images/screenshot_107.png\n",
            "Saved screenshot: drive/MyDrive/Projects/Video to Images/screenshot_108.png\n",
            "Saved screenshot: drive/MyDrive/Projects/Video to Images/screenshot_109.png\n",
            "Saved screenshot: drive/MyDrive/Projects/Video to Images/screenshot_110.png\n",
            "Saved screenshot: drive/MyDrive/Projects/Video to Images/screenshot_111.png\n",
            "Saved screenshot: drive/MyDrive/Projects/Video to Images/screenshot_112.png\n",
            "Saved screenshot: drive/MyDrive/Projects/Video to Images/screenshot_113.png\n",
            "Saved screenshot: drive/MyDrive/Projects/Video to Images/screenshot_114.png\n",
            "Saved screenshot: drive/MyDrive/Projects/Video to Images/screenshot_115.png\n",
            "Saved screenshot: drive/MyDrive/Projects/Video to Images/screenshot_116.png\n",
            "Saved screenshot: drive/MyDrive/Projects/Video to Images/screenshot_117.png\n",
            "Saved screenshot: drive/MyDrive/Projects/Video to Images/screenshot_118.png\n",
            "Saved screenshot: drive/MyDrive/Projects/Video to Images/screenshot_119.png\n",
            "Saved screenshot: drive/MyDrive/Projects/Video to Images/screenshot_120.png\n",
            "Saved screenshot: drive/MyDrive/Projects/Video to Images/screenshot_121.png\n",
            "Saved screenshot: drive/MyDrive/Projects/Video to Images/screenshot_122.png\n",
            "Saved screenshot: drive/MyDrive/Projects/Video to Images/screenshot_123.png\n",
            "Saved screenshot: drive/MyDrive/Projects/Video to Images/screenshot_124.png\n",
            "Saved screenshot: drive/MyDrive/Projects/Video to Images/screenshot_125.png\n",
            "Saved screenshot: drive/MyDrive/Projects/Video to Images/screenshot_126.png\n",
            "Saved screenshot: drive/MyDrive/Projects/Video to Images/screenshot_127.png\n",
            "Saved screenshot: drive/MyDrive/Projects/Video to Images/screenshot_128.png\n",
            "Saved screenshot: drive/MyDrive/Projects/Video to Images/screenshot_129.png\n",
            "Saved screenshot: drive/MyDrive/Projects/Video to Images/screenshot_130.png\n",
            "Saved screenshot: drive/MyDrive/Projects/Video to Images/screenshot_131.png\n",
            "Saved screenshot: drive/MyDrive/Projects/Video to Images/screenshot_132.png\n",
            "Saved screenshot: drive/MyDrive/Projects/Video to Images/screenshot_133.png\n",
            "Saved screenshot: drive/MyDrive/Projects/Video to Images/screenshot_134.png\n",
            "Saved screenshot: drive/MyDrive/Projects/Video to Images/screenshot_135.png\n",
            "Saved screenshot: drive/MyDrive/Projects/Video to Images/screenshot_136.png\n",
            "Saved screenshot: drive/MyDrive/Projects/Video to Images/screenshot_137.png\n",
            "Saved screenshot: drive/MyDrive/Projects/Video to Images/screenshot_138.png\n",
            "Saved screenshot: drive/MyDrive/Projects/Video to Images/screenshot_139.png\n",
            "Saved screenshot: drive/MyDrive/Projects/Video to Images/screenshot_140.png\n",
            "Saved screenshot: drive/MyDrive/Projects/Video to Images/screenshot_141.png\n",
            "Saved screenshot: drive/MyDrive/Projects/Video to Images/screenshot_142.png\n",
            "Saved screenshot: drive/MyDrive/Projects/Video to Images/screenshot_143.png\n",
            "Saved screenshot: drive/MyDrive/Projects/Video to Images/screenshot_144.png\n",
            "Saved screenshot: drive/MyDrive/Projects/Video to Images/screenshot_145.png\n",
            "Saved screenshot: drive/MyDrive/Projects/Video to Images/screenshot_146.png\n",
            "Saved screenshot: drive/MyDrive/Projects/Video to Images/screenshot_147.png\n",
            "Saved screenshot: drive/MyDrive/Projects/Video to Images/screenshot_148.png\n",
            "Saved screenshot: drive/MyDrive/Projects/Video to Images/screenshot_149.png\n",
            "Saved screenshot: drive/MyDrive/Projects/Video to Images/screenshot_150.png\n",
            "Saved screenshot: drive/MyDrive/Projects/Video to Images/screenshot_151.png\n",
            "Saved screenshot: drive/MyDrive/Projects/Video to Images/screenshot_152.png\n",
            "Saved screenshot: drive/MyDrive/Projects/Video to Images/screenshot_153.png\n",
            "Saved screenshot: drive/MyDrive/Projects/Video to Images/screenshot_154.png\n",
            "Saved screenshot: drive/MyDrive/Projects/Video to Images/screenshot_155.png\n",
            "Saved screenshot: drive/MyDrive/Projects/Video to Images/screenshot_156.png\n",
            "Saved screenshot: drive/MyDrive/Projects/Video to Images/screenshot_157.png\n",
            "Saved screenshot: drive/MyDrive/Projects/Video to Images/screenshot_158.png\n",
            "Saved screenshot: drive/MyDrive/Projects/Video to Images/screenshot_159.png\n",
            "Saved screenshot: drive/MyDrive/Projects/Video to Images/screenshot_160.png\n",
            "Saved screenshot: drive/MyDrive/Projects/Video to Images/screenshot_161.png\n",
            "Saved screenshot: drive/MyDrive/Projects/Video to Images/screenshot_162.png\n"
          ]
        }
      ]
    }
  ]
}