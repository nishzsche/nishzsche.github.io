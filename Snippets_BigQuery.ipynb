{
  "cells": [
    {
      "cell_type": "markdown",
      "metadata": {
        "id": "view-in-github",
        "colab_type": "text"
      },
      "source": [
        "<a href=\"https://colab.research.google.com/github/nishzsche/nishzsche.github.io/blob/gh-pages/Snippets_BigQuery.ipynb\" target=\"_parent\"><img src=\"https://colab.research.google.com/assets/colab-badge.svg\" alt=\"Open In Colab\"/></a>"
      ]
    },
    {
      "cell_type": "markdown",
      "metadata": {
        "id": "KcAZ2RHCg_Ze"
      },
      "source": [
        "# Using BigQuery with Pandas API\n",
        "\n",
        "\n",
        "1.   Use the [Cloud Resource Manager](https://console.cloud.google.com/cloud-resource-manager) to Create a Cloud Platform project if you do not already have one.\n",
        "2.   [Enable billing](https://support.google.com/cloud/answer/6293499#enable-billing) for the project.\n",
        "3.   [Enable BigQuery](https://console.cloud.google.com/flows/enableapi?apiid=bigquery) APIs for the project.\n"
      ]
    },
    {
      "cell_type": "code",
      "execution_count": null,
      "metadata": {
        "id": "XHUPlLRgNBgS"
      },
      "outputs": [],
      "source": [
        "from google.colab import auth\n",
        "auth.authenticate_user()"
      ]
    },
    {
      "cell_type": "code",
      "execution_count": null,
      "metadata": {
        "id": "nFF9Wz1CAyVI"
      },
      "outputs": [],
      "source": [
        "import pandas as pd\n",
        "\n",
        "# https://cloud.google.com/resource-manager/docs/creating-managing-projects\n",
        "project_id = '[your Cloud Platform project ID]'\n",
        "sample_count = 2000\n",
        "\n",
        "row_count = pd.io.gbq.read_gbq('''\n",
        "  SELECT\n",
        "    COUNT(*) as total\n",
        "  FROM `bigquery-public-data.samples.gsod`\n",
        "''', project_id=project_id).total[0]\n",
        "\n",
        "df = pd.io.gbq.read_gbq(f'''\n",
        "  SELECT\n",
        "    *\n",
        "  FROM\n",
        "    `bigquery-public-data.samples.gsod`\n",
        "  WHERE RAND() < {sample_count}/{row_count}\n",
        "''', project_id=project_id)\n",
        "\n",
        "print(f'Full dataset has {row_count} rows')"
      ]
    },
    {
      "cell_type": "code",
      "execution_count": null,
      "metadata": {
        "id": "Q5UVxPB_IK7Y"
      },
      "outputs": [],
      "source": [
        "df.describe()"
      ]
    },
    {
      "cell_type": "markdown",
      "metadata": {
        "id": "rPPz4GqHCLOO"
      },
      "source": [
        "## More info\n",
        "\n",
        "- The [GSOD sample table](https://console.cloud.google.com/bigquery?p=bigquery-public-data&d=samples&t=gsod&page=table) contains weather information collected by NOAA, such as precipitation amounts and wind speeds from late 1929 to early 2010.\n",
        "- [Pandas GBQ Documentation](https://pandas.pydata.org/pandas-docs/stable/generated/pandas.read_gbq.html)\n"
      ]
    },
    {
      "cell_type": "markdown",
      "metadata": {
        "id": "HeZN5bOEl2iI"
      },
      "source": [
        "# Using BigQuery with Cloud API\n",
        "\n",
        "\n",
        "1.   Use the [Cloud Resource Manager](https://console.cloud.google.com/cloud-resource-manager) to Create a Cloud Platform project if you do not already have one.\n",
        "2.   [Enable billing](https://support.google.com/cloud/answer/6293499#enable-billing) for the project.\n",
        "3.   [Enable BigQuery](https://console.cloud.google.com/flows/enableapi?apiid=bigquery) APIs for the project.\n",
        "\n",
        "[BigQuery Documentation](https://googlecloudplatform.github.io/google-cloud-python/latest/bigquery/usage.html)"
      ]
    },
    {
      "cell_type": "code",
      "execution_count": null,
      "metadata": {
        "id": "jl97S3vfNHdz"
      },
      "outputs": [],
      "source": [
        "from google.colab import auth\n",
        "auth.authenticate_user()"
      ]
    },
    {
      "cell_type": "code",
      "execution_count": null,
      "metadata": {
        "id": "c_ch12UEi8Jz"
      },
      "outputs": [],
      "source": [
        "from google.cloud import bigquery\n",
        "\n",
        "# https://cloud.google.com/resource-manager/docs/creating-managing-projects\n",
        "project_id = '[your Cloud Platform project ID]'\n",
        "client = bigquery.Client(project=project_id)\n",
        "\n",
        "for dataset in client.list_datasets():\n",
        "  print(dataset.dataset_id)"
      ]
    },
    {
      "cell_type": "markdown",
      "metadata": {
        "id": "rn_R__1dTl7M"
      },
      "source": [
        "# Pandas: display dataframes as interactive tables\n",
        "\n",
        "The `google.colab.data_table` package provides an interactive display of tabular data within colab. It can be enabled by loading the extension:"
      ]
    },
    {
      "cell_type": "code",
      "execution_count": null,
      "metadata": {
        "id": "nsWup88uT95R"
      },
      "outputs": [],
      "source": [
        "%load_ext google.colab.data_table"
      ]
    },
    {
      "cell_type": "markdown",
      "metadata": {
        "id": "QANChPOuT_xz"
      },
      "source": [
        "With this enabled, dataframes are shown as rich, interactive tables:"
      ]
    },
    {
      "cell_type": "code",
      "execution_count": null,
      "metadata": {
        "id": "KUBOqxRTUH2p"
      },
      "outputs": [],
      "source": [
        "from vega_datasets import data\n",
        "data.cars()"
      ]
    },
    {
      "cell_type": "markdown",
      "metadata": {
        "id": "QqptWxKUUcrC"
      },
      "source": [
        "To restore the standard static display, unload the extension:"
      ]
    },
    {
      "cell_type": "code",
      "execution_count": null,
      "metadata": {
        "id": "y318gNmwU57S"
      },
      "outputs": [],
      "source": [
        "%unload_ext google.colab.data_table"
      ]
    },
    {
      "cell_type": "code",
      "execution_count": null,
      "metadata": {
        "id": "uvBm895iU7-a"
      },
      "outputs": [],
      "source": [
        "data.cars()"
      ]
    },
    {
      "cell_type": "markdown",
      "metadata": {
        "id": "mOOjMlcOikBV"
      },
      "source": [
        "# Use BigQuery DataFrames\n",
        "\n",
        "Use the ```bigframes``` package\n",
        ", which provides a Pythonic DataFrame and machine learning (ML) API powered by the BigQuery engine. ``bigframes.pandas`` implements a pandas-like API on top of BigQuery.\n",
        "\n",
        "[BigQuery DataFrames Documentation](https://cloud.google.com/python/docs/reference/bigframes/latest)"
      ]
    },
    {
      "cell_type": "code",
      "execution_count": null,
      "metadata": {
        "id": "NTLTBcU6izji"
      },
      "outputs": [],
      "source": [
        "from google.colab import auth\n",
        "auth.authenticate_user()"
      ]
    },
    {
      "cell_type": "markdown",
      "metadata": {
        "id": "ZImDcMdMyIEC"
      },
      "source": [
        "## Declare the Cloud project ID which will be used throughout this notebook"
      ]
    },
    {
      "cell_type": "code",
      "execution_count": null,
      "metadata": {
        "id": "ixiMzXmmxhoN"
      },
      "outputs": [],
      "source": [
        "project_id = '[your project ID]'"
      ]
    },
    {
      "cell_type": "markdown",
      "metadata": {
        "id": "BCzY0Biw00Rj"
      },
      "source": [
        "## Set up"
      ]
    },
    {
      "cell_type": "code",
      "execution_count": null,
      "metadata": {
        "id": "1d-N7OBc0xxP"
      },
      "outputs": [],
      "source": [
        "import bigframes.pandas as bpd\n",
        "from google.cloud import bigquery\n",
        "\n",
        "# Set BigQuery DataFrames options\n",
        "bpd.options.bigquery.project = project_id\n",
        "bpd.options.bigquery.location = \"US\""
      ]
    },
    {
      "cell_type": "markdown",
      "metadata": {
        "id": "MwHjvhRKyXGz"
      },
      "source": [
        "## Load data from a query input"
      ]
    },
    {
      "cell_type": "code",
      "execution_count": null,
      "metadata": {
        "id": "t01vvOkayUWh"
      },
      "outputs": [],
      "source": [
        "from google.colab import syntax\n",
        "query = syntax.sql('''\n",
        "    SELECT *\n",
        "    FROM `bigquery-public-data.ml_datasets.penguins`\n",
        "    LIMIT 20\n",
        "''')\n",
        "\n",
        "# Load data from a BigQuery table using BigFrames DataFrames:\n",
        "bq_df = bpd.read_gbq(query)"
      ]
    },
    {
      "cell_type": "markdown",
      "metadata": {
        "id": "6HdZsTHgyd1r"
      },
      "source": [
        "## Describe the sampled data"
      ]
    },
    {
      "cell_type": "code",
      "execution_count": null,
      "metadata": {
        "id": "8S3PN57Zyhod"
      },
      "outputs": [],
      "source": [
        "bq_df.describe()"
      ]
    },
    {
      "cell_type": "markdown",
      "metadata": {
        "id": "MJQSrB1SyjzQ"
      },
      "source": [
        "## View the first 10 rows"
      ]
    },
    {
      "cell_type": "code",
      "execution_count": null,
      "metadata": {
        "id": "hMIM50J-y4BG"
      },
      "outputs": [],
      "source": [
        "bq_df.head(10)"
      ]
    }
  ],
  "metadata": {
    "colab": {
      "name": "Snippets: BigQuery",
      "toc_visible": true,
      "provenance": [],
      "include_colab_link": true
    },
    "kernelspec": {
      "display_name": "Python 3",
      "name": "python3"
    }
  },
  "nbformat": 4,
  "nbformat_minor": 0
}