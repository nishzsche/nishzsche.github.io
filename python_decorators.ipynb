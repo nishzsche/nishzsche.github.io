{
  "nbformat": 4,
  "nbformat_minor": 0,
  "metadata": {
    "colab": {
      "provenance": [],
      "authorship_tag": "ABX9TyNzwfdzfLXhgIcOPxilEzOU"
    },
    "kernelspec": {
      "name": "python3",
      "display_name": "Python 3"
    },
    "language_info": {
      "name": "python"
    }
  },
  "cells": [
    {
      "cell_type": "markdown",
      "source": [
        "# Decorators in python"
      ],
      "metadata": {
        "id": "KWuF3fnRLrKq"
      }
    },
    {
      "cell_type": "markdown",
      "source": [
        "Example 1: Treating functions as objects"
      ],
      "metadata": {
        "id": "yK17elF2My5V"
      }
    },
    {
      "cell_type": "code",
      "execution_count": null,
      "metadata": {
        "colab": {
          "base_uri": "https://localhost:8080/"
        },
        "id": "gSSPfSBWLldP",
        "outputId": "44a2d034-ebf4-49a3-f22b-d53332deba99"
      },
      "outputs": [
        {
          "output_type": "stream",
          "name": "stdout",
          "text": [
            "HELLO\n"
          ]
        }
      ],
      "source": [
        "def shout(text):\n",
        "  return text.upper()\n",
        "\n",
        "print(shout(\"hello\"))"
      ]
    },
    {
      "cell_type": "code",
      "source": [
        "yell = shout\n",
        "print(yell(\"hellO\"))"
      ],
      "metadata": {
        "colab": {
          "base_uri": "https://localhost:8080/"
        },
        "id": "uFbwZQgfMm1k",
        "outputId": "deeaa80d-4f9a-4984-a28f-098f9c36bad3"
      },
      "execution_count": null,
      "outputs": [
        {
          "output_type": "stream",
          "name": "stdout",
          "text": [
            "HELLO\n"
          ]
        }
      ]
    },
    {
      "cell_type": "markdown",
      "source": [
        "Example 2: Passing the function as an argument"
      ],
      "metadata": {
        "id": "SFwYdsJBM4DO"
      }
    },
    {
      "cell_type": "code",
      "source": [
        "def shout(text):\n",
        "  return text.upper()\n",
        "\n",
        "def whisper(text):\n",
        "  return text.lower()\n",
        "\n",
        "def greet(func):\n",
        "  greeting = func(\"Hello there fellow human!\")\n",
        "  print(greeting)\n",
        "\n",
        "greet(shout)\n",
        "greet(whisper)"
      ],
      "metadata": {
        "colab": {
          "base_uri": "https://localhost:8080/"
        },
        "id": "BAfc5irPM8nh",
        "outputId": "16c51e2e-503e-401b-f2bc-519caca9a3e5"
      },
      "execution_count": null,
      "outputs": [
        {
          "output_type": "stream",
          "name": "stdout",
          "text": [
            "HELLO THERE FELLOW HUMAN!\n",
            "hello there fellow human!\n"
          ]
        }
      ]
    },
    {
      "cell_type": "markdown",
      "source": [
        "Example 3: Returning functions from another function"
      ],
      "metadata": {
        "id": "6lr5cQvPNSm9"
      }
    },
    {
      "cell_type": "code",
      "source": [
        "def create_adder(x):\n",
        "  def adder(y):\n",
        "    return x+y\n",
        "  return adder\n",
        "\n",
        "# This step returns a function as a result of the call to the outer function\n",
        "add_10 = create_adder(10)\n",
        "print(add_10(15))"
      ],
      "metadata": {
        "colab": {
          "base_uri": "https://localhost:8080/"
        },
        "id": "x1pn9EbmNWzd",
        "outputId": "bb9c619f-99db-4cfa-e7ec-1b4e435bde60"
      },
      "execution_count": null,
      "outputs": [
        {
          "output_type": "stream",
          "name": "stdout",
          "text": [
            "25\n"
          ]
        }
      ]
    }
  ]
}