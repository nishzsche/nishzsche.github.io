{
  "cells": [
    {
      "cell_type": "markdown",
      "metadata": {
        "id": "view-in-github",
        "colab_type": "text"
      },
      "source": [
        "<a href=\"https://colab.research.google.com/github/nishzsche/nishzsche.github.io/blob/gh-pages/gemini.ipynb\" target=\"_parent\"><img src=\"https://colab.research.google.com/assets/colab-badge.svg\" alt=\"Open In Colab\"/></a>"
      ]
    },
    {
      "cell_type": "markdown",
      "metadata": {
        "id": "yob8kLEZeUzF"
      },
      "source": [
        "## Gemini: Connecting to Gemini\n",
        "\n",
        "The Gemini API allows you to connect to Google's most powerful multi-modal model. This example configures your API key and sends an example message to the API and prints a response.\n",
        "\n",
        "Before you start, visit https://aistudio.google.com/app/apikey to create an API key."
      ]
    },
    {
      "cell_type": "code",
      "execution_count": null,
      "metadata": {
        "cellView": "form",
        "id": "eJ2d2cIhcmyw"
      },
      "outputs": [],
      "source": [
        "# @title Configure Gemini API key\n",
        "\n",
        "import google.generativeai as genai\n",
        "from google.colab import userdata\n",
        "\n",
        "gemini_api_secret_name = 'GOOGLE_API_KEY'  # @param {type: \"string\"}\n",
        "\n",
        "try:\n",
        "  GOOGLE_API_KEY=userdata.get(gemini_api_secret_name)\n",
        "  genai.configure(api_key=GOOGLE_API_KEY)\n",
        "except userdata.SecretNotFoundError as e:\n",
        "   print(f'Secret not found\\n\\nThis expects you to create a secret named {gemini_api_secret_name} in Colab\\n\\nVisit https://aistudio.google.com/app/apikey to create an API key\\n\\nStore that in the secrets section on the left side of the notebook (key icon)\\n\\nName the secret {gemini_api_secret_name}')\n",
        "   raise e\n",
        "except userdata.NotebookAccessError as e:\n",
        "  print(f'You need to grant this notebook access to the {gemini_api_secret_name} secret in order for the notebook to access Gemini on your behalf.')\n",
        "  raise e\n",
        "except Exception as e:\n",
        "  print(f\"There was an unknown error. Ensure you have a secret {gemini_api_secret_name} stored in Colab and it's a valid key from https://aistudio.google.com/app/apikey\")\n",
        "  raise e"
      ]
    },
    {
      "cell_type": "code",
      "execution_count": null,
      "metadata": {
        "id": "gM1IZNtDdZuq"
      },
      "outputs": [],
      "source": [
        "# @title Connect to the API and send an example message\n",
        "\n",
        "text = 'What is the velocity of an unladen swallow?' # @param {type: \"string\"}\n",
        "\n",
        "model = genai.GenerativeModel('gemini-pro')\n",
        "chat = model.start_chat(history=[])\n",
        "\n",
        "response = chat.send_message(text)\n",
        "response.text"
      ]
    },
    {
      "cell_type": "markdown",
      "metadata": {
        "id": "PRrm9P6QDjrB"
      },
      "source": [
        "## Gemini: Creating a prompt\n",
        "\n",
        "This rich example shows how you can create and configure complex prompts for Gemini. It assumes that you've already created an API key at https://aistudio.google.com/app/apikey and added it to your Colab secrets as `GOOGLE_API_KEY` (see the \"Connecting to Gemini\" snippet)."
      ]
    },
    {
      "cell_type": "code",
      "execution_count": null,
      "metadata": {
        "id": "fCVoMaiGDjrB"
      },
      "outputs": [],
      "source": [
        "# @title Create a prompt\n",
        "\n",
        "import google.generativeai as genai\n",
        "from google.colab import userdata\n",
        "\n",
        "api_key_name = 'GOOGLE_API_KEY' # @param {type: \"string\"}\n",
        "prompt = 'What is the velocity of an unladen swallow?' # @param {type: \"string\"}\n",
        "system_instructions = 'You have a tendency to speak in riddles.' # @param {type: \"string\"}\n",
        "model = 'gemini-1.5-flash' # @param {type: \"string\"} [\"gemini-1.0-pro\", \"gemini-1.5-pro\", \"gemini-1.5-flash\"]\n",
        "temperature = 0.5 # @param {type: \"slider\", min: 0, max: 2, step: 0.05}\n",
        "stop_sequence = '' # @param {type: \"string\"}\n",
        "\n",
        "if model == 'gemini-1.0-pro' and system_instructions is not None:\n",
        "  system_instructions = None\n",
        "  print('\\x1b[31m(WARNING: System instructions ignored, gemini-1.0-pro does not support system instructions)\\x1b[0m')\n",
        "\n",
        "if model == 'gemini-1.0-pro' and temperature > 1:\n",
        "  temperature = 1\n",
        "  print('\\x1b[34m(INFO: Temperature set to 1, gemini-1.0-pro does not support temperature > 1)\\x1b[0m')\n",
        "\n",
        "if system_instructions == '':\n",
        "  system_instructions = None\n",
        "\n",
        "api_key = userdata.get(api_key_name)\n",
        "genai.configure(api_key=api_key)\n",
        "model = genai.GenerativeModel(model, system_instruction=system_instructions)\n",
        "config = genai.GenerationConfig(temperature=temperature, stop_sequences=[stop_sequence])\n",
        "response = model.generate_content(contents=[prompt], generation_config=config)\n",
        "response.text"
      ]
    }
  ],
  "metadata": {
    "colab": {
      "provenance": [],
      "include_colab_link": true
    },
    "kernelspec": {
      "display_name": "Python 3",
      "name": "python3"
    },
    "language_info": {
      "name": "python"
    }
  },
  "nbformat": 4,
  "nbformat_minor": 0
}